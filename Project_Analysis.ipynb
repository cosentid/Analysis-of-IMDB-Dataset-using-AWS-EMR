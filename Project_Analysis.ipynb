{
 "cells": [
  {
   "cell_type": "markdown",
   "id": "73bc9548",
   "metadata": {
    "tags": []
   },
   "source": [
    "# Analysis of IMDB Data"
   ]
  },
  {
   "cell_type": "markdown",
   "id": "7679c0c0",
   "metadata": {},
   "source": [
    "We will analyze a subset of IMDB's actors, genres, movie actors, and movie ratings data. This dataset comes to us from Kaggle (https://www.kaggle.com/datasets/ashirwadsangwan/imdb-dataset) although we have taken steps to pull this data into a publis s3 bucket: \n",
    "\n",
    "* s3://cis9760-lecture9-movieanalysis/name.basics.tsv ---> Name Basics\n",
    "* s3://cis9760-lecture9-movieanalysis/title.basics.tsv ---> Title Basics\n",
    "* s3://cis9760-lecture9-movieanalysis/title.principals.tsv ---> Title Principles\n",
    "* s3://cis9760-lecture9-movieanalysis/title.ratings.tsv ---> Title Ratings"
   ]
  },
  {
   "cell_type": "markdown",
   "id": "c1dde3fb",
   "metadata": {},
   "source": [
    "# Content\n",
    "\n",
    "**<br />name.basics.tsv.gz – Contains the following information for names:**\n",
    "<br />nconst (string) - alphanumeric unique identifier of the name/person.\n",
    "<br />primaryName (string)– name by which the person is most often credited.\n",
    "<br />birthYear – in YYYY format.\n",
    "<br />deathYear – in YYYY format if applicable, else .\n",
    "<br />primaryProfession (array of strings)– the top-3 professions of the person.\n",
    "<br />knownForTitles (array of tconsts) – titles the person is known for.\n",
    "<br/><br/>\n",
    "**<br />title.basics.tsv.gz - Contains the following information for titles:**\n",
    "<br />tconst (string) - alphanumeric unique identifier of the title.\n",
    "<br />titleType (string) – the type/format of the title (e.g. movie, short, tvseries, tvepisode, video, etc).\n",
    "<br />primaryTitle (string) – the more popular title / the title used by the filmmakers on promotional materials at the point of release.\n",
    "<br />originalTitle (string) - original title, in the original language.\n",
    "<br />isAdult (boolean) - 0: non-adult title; 1: adult title.\n",
    "<br />startYear (YYYY) – represents the release year of a title. In the case of TV Series, it is the series start year.\n",
    "<br />endYear (YYYY) – TV Series end year. for all other title types.\n",
    "<br />runtimeMinutes – primary runtime of the title, in minutes.\n",
    "<br />genres (string array) – includes up to three genres associated with the title.\n",
    "<br/><br/>\n",
    "**<br />title.principals.tsv – Contains the principal cast/crew for titles:**\n",
    "<br />tconst (string) - alphanumeric unique identifier of the title.\n",
    "<br />ordering (integer) – a number to uniquely identify rows for a given titleId.\n",
    "<br />nconst (string) - alphanumeric unique identifier of the name/person.\n",
    "<br />category (string) - the category of job that person was in.\n",
    "<br />job (string) - the specific job title if applicable, else.\n",
    "<br />characters (string) - the name of the character played if applicable, else.\n",
    "<br/><br/>\n",
    "**<br />title.ratings.tsv.gz – Contains the IMDb rating and votes information for titles:**\n",
    "<br />tconst (string) - alphanumeric unique identifier of the title.\n",
    "<br />averageRating – weighted average of all the individual user ratings.\n",
    "<br />numVotes - number of votes the title has received."
   ]
  },
  {
   "cell_type": "markdown",
   "id": "08416e6e",
   "metadata": {},
   "source": [
    "# PART 1 - Installation and Initial Setup"
   ]
  },
  {
   "cell_type": "markdown",
   "id": "04b07b9f",
   "metadata": {},
   "source": [
    "Begin by installing the necessary libraries that you may need to conduct your analysis. At the very least, you must install pandas and matplotlib"
   ]
  },
  {
   "cell_type": "code",
   "execution_count": 1,
   "id": "0c8b0667",
   "metadata": {
    "execution": {
     "iopub.execute_input": "2023-12-13T00:35:27.977438Z",
     "iopub.status.busy": "2023-12-13T00:35:27.977137Z",
     "iopub.status.idle": "2023-12-13T00:35:28.774361Z",
     "shell.execute_reply": "2023-12-13T00:35:28.773526Z",
     "shell.execute_reply.started": "2023-12-13T00:35:27.977413Z"
    },
    "tags": []
   },
   "outputs": [
    {
     "data": {
      "text/html": [
       "Current session configs: <tt>{'proxyUser': 'user_EMR-User', 'conf': {'spark.pyspark.python': 'python3', 'spark.pyspark.virtualenv.enabled': 'true', 'spark.pyspark.virtualenv.type': 'native', 'spark.pyspark.virtualenv.bin.path': '/usr/bin/virtualenv'}, 'kind': 'pyspark'}</tt><br>"
      ],
      "text/plain": [
       "<IPython.core.display.HTML object>"
      ]
     },
     "metadata": {},
     "output_type": "display_data"
    },
    {
     "data": {
      "text/html": [
       "No active sessions."
      ],
      "text/plain": [
       "<IPython.core.display.HTML object>"
      ]
     },
     "metadata": {},
     "output_type": "display_data"
    }
   ],
   "source": [
    "%%info"
   ]
  },
  {
   "cell_type": "markdown",
   "id": "1fc39c6b",
   "metadata": {},
   "source": [
    "Let's install the necessary packages here"
   ]
  },
  {
   "cell_type": "code",
   "execution_count": 2,
   "id": "e0a576cf",
   "metadata": {
    "execution": {
     "iopub.execute_input": "2023-12-13T00:35:28.775956Z",
     "iopub.status.busy": "2023-12-13T00:35:28.775641Z",
     "iopub.status.idle": "2023-12-13T00:37:05.857198Z",
     "shell.execute_reply": "2023-12-13T00:37:05.856384Z",
     "shell.execute_reply.started": "2023-12-13T00:35:28.775922Z"
    },
    "tags": []
   },
   "outputs": [
    {
     "data": {
      "application/vnd.jupyter.widget-view+json": {
       "model_id": "9284e5e1fb72447abe2f83589f5ce431",
       "version_major": 2,
       "version_minor": 0
      },
      "text/plain": [
       "VBox()"
      ]
     },
     "metadata": {},
     "output_type": "display_data"
    },
    {
     "name": "stdout",
     "output_type": "stream",
     "text": [
      "Starting Spark application\n"
     ]
    },
    {
     "data": {
      "text/html": [
       "<table>\n<tbody><tr><th>ID</th><th>YARN Application ID</th><th>Kind</th><th>State</th><th>Spark UI</th><th>Driver log</th><th>User</th><th>Current session?</th></tr><tr><td>0</td><td>application_1702427128802_0001</td><td>pyspark</td><td>idle</td><td><a target=\"_blank\" href=\"http://ip-172-31-21-124.us-east-2.compute.internal:20888/proxy/application_1702427128802_0001/\" class=\"emr-proxy-link j-2HPPQSNKFC8WE application_1702427128802_0001\" emr-resource=\"j-2HPPQSNKFC8WE\n\" application-id=\"application_1702427128802_0001\">Link</a></td><td><a target=\"_blank\" href=\"http://ip-172-31-20-43.us-east-2.compute.internal:8042/node/containerlogs/container_1702427128802_0001_01_000001/livy\">Link</a></td><td>None</td><td>✔</td></tr></tbody></table>"
      ],
      "text/plain": [
       "<IPython.core.display.HTML object>"
      ]
     },
     "metadata": {},
     "output_type": "display_data"
    },
    {
     "data": {
      "application/vnd.jupyter.widget-view+json": {
       "model_id": "",
       "version_major": 2,
       "version_minor": 0
      },
      "text/plain": [
       "FloatProgress(value=0.0, bar_style='info', description='Progress:', layout=Layout(height='25px', width='50%'),…"
      ]
     },
     "metadata": {},
     "output_type": "display_data"
    },
    {
     "name": "stdout",
     "output_type": "stream",
     "text": [
      "SparkSession available as 'spark'.\n"
     ]
    },
    {
     "data": {
      "application/vnd.jupyter.widget-view+json": {
       "model_id": "",
       "version_major": 2,
       "version_minor": 0
      },
      "text/plain": [
       "FloatProgress(value=0.0, bar_style='info', description='Progress:', layout=Layout(height='25px', width='50%'),…"
      ]
     },
     "metadata": {},
     "output_type": "display_data"
    },
    {
     "name": "stdout",
     "output_type": "stream",
     "text": [
      "Collecting pandas==1.0.5\n",
      "  Downloading pandas-1.0.5-cp37-cp37m-manylinux1_x86_64.whl (10.1 MB)\n",
      "Collecting python-dateutil>=2.6.1\n",
      "  Downloading python_dateutil-2.8.2-py2.py3-none-any.whl (247 kB)\n",
      "Requirement already satisfied: pytz>=2017.2 in /usr/local/lib/python3.7/site-packages (from pandas==1.0.5) (2023.3)\n",
      "Requirement already satisfied: numpy>=1.13.3 in /usr/local/lib64/python3.7/site-packages (from pandas==1.0.5) (1.20.0)\n",
      "Requirement already satisfied: six>=1.5 in /usr/local/lib/python3.7/site-packages (from python-dateutil>=2.6.1->pandas==1.0.5) (1.13.0)\n",
      "Installing collected packages: python-dateutil, pandas\n",
      "Successfully installed pandas-1.0.5 python-dateutil-2.8.2\n",
      "\n",
      "Collecting matplotlib==3.2.1\n",
      "  Downloading matplotlib-3.2.1-cp37-cp37m-manylinux1_x86_64.whl (12.4 MB)\n",
      "Collecting cycler>=0.10\n",
      "  Downloading cycler-0.11.0-py3-none-any.whl (6.4 kB)\n",
      "Collecting pyparsing!=2.0.4,!=2.1.2,!=2.1.6,>=2.0.1\n",
      "  Downloading pyparsing-3.1.1-py3-none-any.whl (103 kB)\n",
      "Requirement already satisfied: numpy>=1.11 in /usr/local/lib64/python3.7/site-packages (from matplotlib==3.2.1) (1.20.0)\n",
      "Requirement already satisfied: python-dateutil>=2.1 in ./tmp/spark-0c3ebbb4-494b-4f75-8a11-d586f958a350/lib/python3.7/site-packages (from matplotlib==3.2.1) (2.8.2)\n",
      "Collecting kiwisolver>=1.0.1\n",
      "  Downloading kiwisolver-1.4.5-cp37-cp37m-manylinux_2_5_x86_64.manylinux1_x86_64.whl (1.1 MB)\n",
      "Requirement already satisfied: six>=1.5 in /usr/local/lib/python3.7/site-packages (from python-dateutil>=2.1->matplotlib==3.2.1) (1.13.0)\n",
      "Collecting typing-extensions; python_version < \"3.8\"\n",
      "  Downloading typing_extensions-4.7.1-py3-none-any.whl (33 kB)\n",
      "Installing collected packages: cycler, pyparsing, typing-extensions, kiwisolver, matplotlib\n",
      "Successfully installed cycler-0.11.0 kiwisolver-1.4.5 matplotlib-3.2.1 pyparsing-3.1.1 typing-extensions-4.7.1\n",
      "\n",
      "WARNING: The directory '/home/.cache/pip' or its parent directory is not owned or is not writable by the current user. The cache has been disabled. Check the permissions and owner of that directory. If executing pip with sudo, you may want sudo's -H flag.\n",
      "\n",
      "WARNING: The directory '/home/.cache/pip' or its parent directory is not owned or is not writable by the current user. The cache has been disabled. Check the permissions and owner of that directory. If executing pip with sudo, you may want sudo's -H flag."
     ]
    }
   ],
   "source": [
    "sc.install_pypi_package(\"pandas==1.0.5\")\n",
    "sc.install_pypi_package(\"matplotlib==3.2.1\")"
   ]
  },
  {
   "cell_type": "markdown",
   "id": "5ab05754",
   "metadata": {},
   "source": [
    "Now, import the installed packages from the previous block below."
   ]
  },
  {
   "cell_type": "code",
   "execution_count": 3,
   "id": "6d0a7012",
   "metadata": {
    "execution": {
     "iopub.execute_input": "2023-12-13T00:37:05.858924Z",
     "iopub.status.busy": "2023-12-13T00:37:05.858696Z",
     "iopub.status.idle": "2023-12-13T00:37:11.185325Z",
     "shell.execute_reply": "2023-12-13T00:37:11.184572Z",
     "shell.execute_reply.started": "2023-12-13T00:37:05.858901Z"
    },
    "tags": []
   },
   "outputs": [
    {
     "data": {
      "application/vnd.jupyter.widget-view+json": {
       "model_id": "21aa956a385e4744a7a5ceab4adc914e",
       "version_major": 2,
       "version_minor": 0
      },
      "text/plain": [
       "VBox()"
      ]
     },
     "metadata": {},
     "output_type": "display_data"
    },
    {
     "data": {
      "application/vnd.jupyter.widget-view+json": {
       "model_id": "",
       "version_major": 2,
       "version_minor": 0
      },
      "text/plain": [
       "FloatProgress(value=0.0, bar_style='info', description='Progress:', layout=Layout(height='25px', width='50%'),…"
      ]
     },
     "metadata": {},
     "output_type": "display_data"
    }
   ],
   "source": [
    "import numpy as np\n",
    "import pandas as pd\n",
    "import matplotlib.pyplot as plt"
   ]
  },
  {
   "cell_type": "markdown",
   "id": "e963f4ba",
   "metadata": {},
   "source": [
    "# Loading Data"
   ]
  },
  {
   "cell_type": "markdown",
   "id": "b4356189",
   "metadata": {},
   "source": [
    "Load all data from S3 into a Spark dataframe object "
   ]
  },
  {
   "cell_type": "code",
   "execution_count": 4,
   "id": "24beddd1",
   "metadata": {
    "execution": {
     "iopub.execute_input": "2023-12-13T00:37:11.187276Z",
     "iopub.status.busy": "2023-12-13T00:37:11.186942Z",
     "iopub.status.idle": "2023-12-13T00:37:20.508204Z",
     "shell.execute_reply": "2023-12-13T00:37:20.507176Z",
     "shell.execute_reply.started": "2023-12-13T00:37:11.187241Z"
    },
    "tags": []
   },
   "outputs": [
    {
     "data": {
      "application/vnd.jupyter.widget-view+json": {
       "model_id": "6882f16b5db348d18b61757da0ed0a2b",
       "version_major": 2,
       "version_minor": 0
      },
      "text/plain": [
       "VBox()"
      ]
     },
     "metadata": {},
     "output_type": "display_data"
    },
    {
     "data": {
      "application/vnd.jupyter.widget-view+json": {
       "model_id": "",
       "version_major": 2,
       "version_minor": 0
      },
      "text/plain": [
       "FloatProgress(value=0.0, bar_style='info', description='Progress:', layout=Layout(height='25px', width='50%'),…"
      ]
     },
     "metadata": {},
     "output_type": "display_data"
    }
   ],
   "source": [
    "name = spark.read.csv('s3://cis9760-lecture9-movieanalysis/name.basics.tsv', sep=r'\\t', header=True)\n",
    "titles = spark.read.csv('s3://cis9760-lecture9-movieanalysis/title.basics.tsv', sep=r'\\t', header=True)\n",
    "principles = spark.read.csv('s3://cis9760-lecture9-movieanalysis/title.principals.tsv', sep=r'\\t', header=True)\n",
    "ratings = spark.read.csv('s3://cis9760-lecture9-movieanalysis/title.ratings.tsv', sep=r'\\t', header=True)"
   ]
  },
  {
   "cell_type": "markdown",
   "id": "c65401c7",
   "metadata": {},
   "source": [
    "## Name Basics"
   ]
  },
  {
   "cell_type": "markdown",
   "id": "03981851",
   "metadata": {},
   "source": [
    "Display the schema below:"
   ]
  },
  {
   "cell_type": "code",
   "execution_count": 5,
   "id": "98b95e51",
   "metadata": {
    "execution": {
     "iopub.execute_input": "2023-12-13T00:37:20.509814Z",
     "iopub.status.busy": "2023-12-13T00:37:20.509483Z",
     "iopub.status.idle": "2023-12-13T00:37:20.778349Z",
     "shell.execute_reply": "2023-12-13T00:37:20.777482Z",
     "shell.execute_reply.started": "2023-12-13T00:37:20.509778Z"
    },
    "tags": []
   },
   "outputs": [
    {
     "data": {
      "application/vnd.jupyter.widget-view+json": {
       "model_id": "797fe9c48c48489cb76067008bd7b949",
       "version_major": 2,
       "version_minor": 0
      },
      "text/plain": [
       "VBox()"
      ]
     },
     "metadata": {},
     "output_type": "display_data"
    },
    {
     "data": {
      "application/vnd.jupyter.widget-view+json": {
       "model_id": "",
       "version_major": 2,
       "version_minor": 0
      },
      "text/plain": [
       "FloatProgress(value=0.0, bar_style='info', description='Progress:', layout=Layout(height='25px', width='50%'),…"
      ]
     },
     "metadata": {},
     "output_type": "display_data"
    },
    {
     "name": "stdout",
     "output_type": "stream",
     "text": [
      "root\n",
      " |-- nconst: string (nullable = true)\n",
      " |-- primaryName: string (nullable = true)\n",
      " |-- birthYear: string (nullable = true)\n",
      " |-- deathYear: string (nullable = true)\n",
      " |-- primaryProfession: string (nullable = true)\n",
      " |-- knownForTitles: string (nullable = true)"
     ]
    }
   ],
   "source": [
    "name.printSchema()"
   ]
  },
  {
   "cell_type": "markdown",
   "id": "dfd8a219",
   "metadata": {},
   "source": [
    "Display the first 5 rows with the following columns:\n",
    "\n",
    "* `primaryName`\n",
    "* `birthYear`\n",
    "* `deathYear`\n",
    "* `knownForTitles`"
   ]
  },
  {
   "cell_type": "code",
   "execution_count": 6,
   "id": "29db2340",
   "metadata": {
    "execution": {
     "iopub.execute_input": "2023-12-13T00:37:20.780297Z",
     "iopub.status.busy": "2023-12-13T00:37:20.779665Z",
     "iopub.status.idle": "2023-12-13T00:37:21.615997Z",
     "shell.execute_reply": "2023-12-13T00:37:21.614879Z",
     "shell.execute_reply.started": "2023-12-13T00:37:20.780241Z"
    },
    "tags": []
   },
   "outputs": [
    {
     "data": {
      "application/vnd.jupyter.widget-view+json": {
       "model_id": "031613c64ed54d9aa0dfe4859344ca14",
       "version_major": 2,
       "version_minor": 0
      },
      "text/plain": [
       "VBox()"
      ]
     },
     "metadata": {},
     "output_type": "display_data"
    },
    {
     "data": {
      "application/vnd.jupyter.widget-view+json": {
       "model_id": "",
       "version_major": 2,
       "version_minor": 0
      },
      "text/plain": [
       "FloatProgress(value=0.0, bar_style='info', description='Progress:', layout=Layout(height='25px', width='50%'),…"
      ]
     },
     "metadata": {},
     "output_type": "display_data"
    },
    {
     "name": "stdout",
     "output_type": "stream",
     "text": [
      "+---------------+---------+---------+---------------------------------------+\n",
      "|primaryName    |birthYear|deathYear|knownForTitles                         |\n",
      "+---------------+---------+---------+---------------------------------------+\n",
      "|Fred Astaire   |1899     |1987     |tt0050419,tt0053137,tt0072308,tt0043044|\n",
      "|Lauren Bacall  |1924     |2014     |tt0071877,tt0117057,tt0038355,tt0037382|\n",
      "|Brigitte Bardot|1934     |\\N       |tt0054452,tt0049189,tt0059956,tt0057345|\n",
      "|John Belushi   |1949     |1982     |tt0077975,tt0072562,tt0080455,tt0078723|\n",
      "|Ingmar Bergman |1918     |2007     |tt0069467,tt0050976,tt0083922,tt0050986|\n",
      "+---------------+---------+---------+---------------------------------------+\n",
      "only showing top 5 rows"
     ]
    }
   ],
   "source": [
    "name.select('primaryName', 'birthYear', 'deathYear', 'knownForTitles').show(5, truncate=False)"
   ]
  },
  {
   "cell_type": "markdown",
   "id": "65371453",
   "metadata": {},
   "source": [
    "## Title Basics"
   ]
  },
  {
   "cell_type": "markdown",
   "id": "b95d8c5a",
   "metadata": {},
   "source": [
    "Display the first 15 rows with the following columns:\n",
    "    \n",
    "* `titleType`\n",
    "* `primaryTitle`\n",
    "* `genres`"
   ]
  },
  {
   "cell_type": "code",
   "execution_count": 7,
   "id": "74c95177",
   "metadata": {
    "execution": {
     "iopub.execute_input": "2023-12-13T00:37:21.617835Z",
     "iopub.status.busy": "2023-12-13T00:37:21.617490Z",
     "iopub.status.idle": "2023-12-13T00:37:22.482297Z",
     "shell.execute_reply": "2023-12-13T00:37:22.481405Z",
     "shell.execute_reply.started": "2023-12-13T00:37:21.617798Z"
    },
    "tags": []
   },
   "outputs": [
    {
     "data": {
      "application/vnd.jupyter.widget-view+json": {
       "model_id": "945c81d8b46e447bbd2e3ce052190fa7",
       "version_major": 2,
       "version_minor": 0
      },
      "text/plain": [
       "VBox()"
      ]
     },
     "metadata": {},
     "output_type": "display_data"
    },
    {
     "data": {
      "application/vnd.jupyter.widget-view+json": {
       "model_id": "",
       "version_major": 2,
       "version_minor": 0
      },
      "text/plain": [
       "FloatProgress(value=0.0, bar_style='info', description='Progress:', layout=Layout(height='25px', width='50%'),…"
      ]
     },
     "metadata": {},
     "output_type": "display_data"
    },
    {
     "name": "stdout",
     "output_type": "stream",
     "text": [
      "+---------+-------------------------------------------+------------------------+\n",
      "|titleType|primaryTitle                               |genres                  |\n",
      "+---------+-------------------------------------------+------------------------+\n",
      "|short    |Carmencita                                 |Documentary,Short       |\n",
      "|short    |Le clown et ses chiens                     |Animation,Short         |\n",
      "|short    |Pauvre Pierrot                             |Animation,Comedy,Romance|\n",
      "|short    |Un bon bock                                |Animation,Short         |\n",
      "|short    |Blacksmith Scene                           |Comedy,Short            |\n",
      "|short    |Chinese Opium Den                          |Short                   |\n",
      "|short    |Corbett and Courtney Before the Kinetograph|Short,Sport             |\n",
      "|short    |Edison Kinetoscopic Record of a Sneeze     |Documentary,Short       |\n",
      "|movie    |Miss Jerry                                 |Romance                 |\n",
      "|short    |Exiting the Factory                        |Documentary,Short       |\n",
      "|short    |Akrobatisches Potpourri                    |Documentary,Short       |\n",
      "|short    |The Arrival of a Train                     |Action,Documentary,Short|\n",
      "|short    |The Photographical Congress Arrives in Lyon|Documentary,Short       |\n",
      "|short    |The Sprinkler Sprinkled                    |Comedy,Short            |\n",
      "|short    |Autour d'une cabine                        |Animation,Short         |\n",
      "+---------+-------------------------------------------+------------------------+\n",
      "only showing top 15 rows"
     ]
    }
   ],
   "source": [
    "titles.select('titleType', 'primaryTitle', 'genres').show(15, truncate=False)"
   ]
  },
  {
   "cell_type": "markdown",
   "id": "f3852bb4",
   "metadata": {},
   "source": [
    "Display the unique titles below:"
   ]
  },
  {
   "cell_type": "code",
   "execution_count": 8,
   "id": "2a28caff",
   "metadata": {
    "execution": {
     "iopub.execute_input": "2023-12-13T00:37:22.484891Z",
     "iopub.status.busy": "2023-12-13T00:37:22.484626Z",
     "iopub.status.idle": "2023-12-13T00:37:31.788932Z",
     "shell.execute_reply": "2023-12-13T00:37:31.787905Z",
     "shell.execute_reply.started": "2023-12-13T00:37:22.484863Z"
    },
    "tags": []
   },
   "outputs": [
    {
     "data": {
      "application/vnd.jupyter.widget-view+json": {
       "model_id": "59197b1752bf4cd398a8b634592d7278",
       "version_major": 2,
       "version_minor": 0
      },
      "text/plain": [
       "VBox()"
      ]
     },
     "metadata": {},
     "output_type": "display_data"
    },
    {
     "data": {
      "application/vnd.jupyter.widget-view+json": {
       "model_id": "",
       "version_major": 2,
       "version_minor": 0
      },
      "text/plain": [
       "FloatProgress(value=0.0, bar_style='info', description='Progress:', layout=Layout(height='25px', width='50%'),…"
      ]
     },
     "metadata": {},
     "output_type": "display_data"
    },
    {
     "name": "stdout",
     "output_type": "stream",
     "text": [
      "+------------+\n",
      "|   titleType|\n",
      "+------------+\n",
      "|    tvSeries|\n",
      "|tvMiniSeries|\n",
      "|       movie|\n",
      "|   videoGame|\n",
      "|   tvSpecial|\n",
      "|       video|\n",
      "|     tvMovie|\n",
      "|   tvEpisode|\n",
      "|     tvShort|\n",
      "|       short|\n",
      "+------------+"
     ]
    }
   ],
   "source": [
    "titles.select('titleType').distinct().show()"
   ]
  },
  {
   "cell_type": "markdown",
   "id": "d8f3c92f",
   "metadata": {},
   "source": [
    "Display the schema below:"
   ]
  },
  {
   "cell_type": "code",
   "execution_count": 9,
   "id": "8334d2fe",
   "metadata": {
    "execution": {
     "iopub.execute_input": "2023-12-13T00:37:31.790803Z",
     "iopub.status.busy": "2023-12-13T00:37:31.790563Z",
     "iopub.status.idle": "2023-12-13T00:37:31.855060Z",
     "shell.execute_reply": "2023-12-13T00:37:31.854152Z",
     "shell.execute_reply.started": "2023-12-13T00:37:31.790780Z"
    },
    "tags": []
   },
   "outputs": [
    {
     "data": {
      "application/vnd.jupyter.widget-view+json": {
       "model_id": "6efa0ac4e3cb46c0ab51a391e64859a3",
       "version_major": 2,
       "version_minor": 0
      },
      "text/plain": [
       "VBox()"
      ]
     },
     "metadata": {},
     "output_type": "display_data"
    },
    {
     "data": {
      "application/vnd.jupyter.widget-view+json": {
       "model_id": "",
       "version_major": 2,
       "version_minor": 0
      },
      "text/plain": [
       "FloatProgress(value=0.0, bar_style='info', description='Progress:', layout=Layout(height='25px', width='50%'),…"
      ]
     },
     "metadata": {},
     "output_type": "display_data"
    },
    {
     "name": "stdout",
     "output_type": "stream",
     "text": [
      "root\n",
      " |-- tconst: string (nullable = true)\n",
      " |-- titleType: string (nullable = true)\n",
      " |-- primaryTitle: string (nullable = true)\n",
      " |-- originalTitle: string (nullable = true)\n",
      " |-- isAdult: string (nullable = true)\n",
      " |-- startYear: string (nullable = true)\n",
      " |-- endYear: string (nullable = true)\n",
      " |-- runtimeMinutes: string (nullable = true)\n",
      " |-- genres: string (nullable = true)"
     ]
    }
   ],
   "source": [
    "titles.printSchema()"
   ]
  },
  {
   "cell_type": "markdown",
   "id": "bf21e1b7",
   "metadata": {},
   "source": [
    "## Title Principles"
   ]
  },
  {
   "cell_type": "markdown",
   "id": "442830b8",
   "metadata": {},
   "source": [
    "Display the schema below:"
   ]
  },
  {
   "cell_type": "code",
   "execution_count": 10,
   "id": "b7241872",
   "metadata": {
    "execution": {
     "iopub.execute_input": "2023-12-13T00:37:31.856952Z",
     "iopub.status.busy": "2023-12-13T00:37:31.856369Z",
     "iopub.status.idle": "2023-12-13T00:37:31.917857Z",
     "shell.execute_reply": "2023-12-13T00:37:31.917151Z",
     "shell.execute_reply.started": "2023-12-13T00:37:31.856913Z"
    },
    "tags": []
   },
   "outputs": [
    {
     "data": {
      "application/vnd.jupyter.widget-view+json": {
       "model_id": "c36e9e07fe8f4f59a17031b24b3d6229",
       "version_major": 2,
       "version_minor": 0
      },
      "text/plain": [
       "VBox()"
      ]
     },
     "metadata": {},
     "output_type": "display_data"
    },
    {
     "data": {
      "application/vnd.jupyter.widget-view+json": {
       "model_id": "",
       "version_major": 2,
       "version_minor": 0
      },
      "text/plain": [
       "FloatProgress(value=0.0, bar_style='info', description='Progress:', layout=Layout(height='25px', width='50%'),…"
      ]
     },
     "metadata": {},
     "output_type": "display_data"
    },
    {
     "name": "stdout",
     "output_type": "stream",
     "text": [
      "root\n",
      " |-- tconst: string (nullable = true)\n",
      " |-- ordering: string (nullable = true)\n",
      " |-- nconst: string (nullable = true)\n",
      " |-- category: string (nullable = true)\n",
      " |-- job: string (nullable = true)\n",
      " |-- characters: string (nullable = true)"
     ]
    }
   ],
   "source": [
    "principles.printSchema()"
   ]
  },
  {
   "cell_type": "markdown",
   "id": "e24870d3",
   "metadata": {},
   "source": [
    "Display the first 15 rows where the \"category\" column is \"self\""
   ]
  },
  {
   "cell_type": "code",
   "execution_count": 11,
   "id": "3f6dbef1",
   "metadata": {
    "execution": {
     "iopub.execute_input": "2023-12-13T00:37:31.919034Z",
     "iopub.status.busy": "2023-12-13T00:37:31.918810Z",
     "iopub.status.idle": "2023-12-13T00:37:32.706901Z",
     "shell.execute_reply": "2023-12-13T00:37:32.706191Z",
     "shell.execute_reply.started": "2023-12-13T00:37:31.919011Z"
    },
    "tags": []
   },
   "outputs": [
    {
     "data": {
      "application/vnd.jupyter.widget-view+json": {
       "model_id": "b15ba1cf21564c3b90ce02a6b3943749",
       "version_major": 2,
       "version_minor": 0
      },
      "text/plain": [
       "VBox()"
      ]
     },
     "metadata": {},
     "output_type": "display_data"
    },
    {
     "data": {
      "application/vnd.jupyter.widget-view+json": {
       "model_id": "",
       "version_major": 2,
       "version_minor": 0
      },
      "text/plain": [
       "FloatProgress(value=0.0, bar_style='info', description='Progress:', layout=Layout(height='25px', width='50%'),…"
      ]
     },
     "metadata": {},
     "output_type": "display_data"
    },
    {
     "name": "stdout",
     "output_type": "stream",
     "text": [
      "+---------+--------+---------+--------+---+--------------------+\n",
      "|   tconst|ordering|   nconst|category|job|          characters|\n",
      "+---------+--------+---------+--------+---+--------------------+\n",
      "|tt0000001|       1|nm1588970|    self| \\N|         [\"Herself\"]|\n",
      "|tt0000012|       1|nm2880396|    self| \\N|         [\"Herself\"]|\n",
      "|tt0000012|       2|nm9735580|    self| \\N|         [\"Himself\"]|\n",
      "|tt0000012|       3|nm0525900|    self| \\N|         [\"Herself\"]|\n",
      "|tt0000012|       4|nm9735581|    self| \\N|         [\"Herself\"]|\n",
      "|tt0000012|       7|nm9735579|    self| \\N|         [\"Herself\"]|\n",
      "|tt0000012|       8|nm9653419|    self| \\N|         [\"Herself\"]|\n",
      "|tt0000013|       1|nm0525908|    self| \\N|         [\"Himself\"]|\n",
      "|tt0000013|       2|nm1715062|    self| \\N|         [\"Himself\"]|\n",
      "|tt0000016|       1|nm0525900|    self| \\N|[\"Herself (on the...|\n",
      "|tt0000016|       2|nm9735581|    self| \\N|[\"Herself (on the...|\n",
      "|tt0000024|       1|nm0256651|    self| \\N|[\"Herself - Empre...|\n",
      "|tt0000024|       2|nm0435118|    self| \\N|[\"Himself - Emper...|\n",
      "|tt0000028|       1|nm2350838|    self| \\N|         [\"Himself\"]|\n",
      "|tt0000028|       2|nm0525908|    self| \\N|         [\"Himself\"]|\n",
      "+---------+--------+---------+--------+---+--------------------+\n",
      "only showing top 15 rows"
     ]
    }
   ],
   "source": [
    "principles.filter(principles.category == 'self').show(15)"
   ]
  },
  {
   "cell_type": "markdown",
   "id": "d8e128fc",
   "metadata": {},
   "source": [
    "## Title Ratings"
   ]
  },
  {
   "cell_type": "markdown",
   "id": "c40d60cd",
   "metadata": {},
   "source": [
    "Display the schema below:"
   ]
  },
  {
   "cell_type": "code",
   "execution_count": 12,
   "id": "1ed78395",
   "metadata": {
    "execution": {
     "iopub.execute_input": "2023-12-13T00:37:32.708104Z",
     "iopub.status.busy": "2023-12-13T00:37:32.707870Z",
     "iopub.status.idle": "2023-12-13T00:37:32.756234Z",
     "shell.execute_reply": "2023-12-13T00:37:32.755264Z",
     "shell.execute_reply.started": "2023-12-13T00:37:32.708081Z"
    },
    "tags": []
   },
   "outputs": [
    {
     "data": {
      "application/vnd.jupyter.widget-view+json": {
       "model_id": "cba0ace2abff49618df503882fe747fe",
       "version_major": 2,
       "version_minor": 0
      },
      "text/plain": [
       "VBox()"
      ]
     },
     "metadata": {},
     "output_type": "display_data"
    },
    {
     "data": {
      "application/vnd.jupyter.widget-view+json": {
       "model_id": "",
       "version_major": 2,
       "version_minor": 0
      },
      "text/plain": [
       "FloatProgress(value=0.0, bar_style='info', description='Progress:', layout=Layout(height='25px', width='50%'),…"
      ]
     },
     "metadata": {},
     "output_type": "display_data"
    },
    {
     "name": "stdout",
     "output_type": "stream",
     "text": [
      "root\n",
      " |-- tconst: string (nullable = true)\n",
      " |-- averageRating: string (nullable = true)\n",
      " |-- numVotes: string (nullable = true)"
     ]
    }
   ],
   "source": [
    "ratings.printSchema()"
   ]
  },
  {
   "cell_type": "markdown",
   "id": "76ac1ac7",
   "metadata": {},
   "source": [
    "Display the first 10 rows in a descending order by the number of votes"
   ]
  },
  {
   "cell_type": "code",
   "execution_count": 13,
   "id": "9f663e07",
   "metadata": {
    "execution": {
     "iopub.execute_input": "2023-12-13T00:37:32.757970Z",
     "iopub.status.busy": "2023-12-13T00:37:32.757636Z",
     "iopub.status.idle": "2023-12-13T00:37:35.047821Z",
     "shell.execute_reply": "2023-12-13T00:37:35.046896Z",
     "shell.execute_reply.started": "2023-12-13T00:37:32.757932Z"
    },
    "tags": []
   },
   "outputs": [
    {
     "data": {
      "application/vnd.jupyter.widget-view+json": {
       "model_id": "9b4d2fb5d2b04aa8a18c0f4ba4714389",
       "version_major": 2,
       "version_minor": 0
      },
      "text/plain": [
       "VBox()"
      ]
     },
     "metadata": {},
     "output_type": "display_data"
    },
    {
     "data": {
      "application/vnd.jupyter.widget-view+json": {
       "model_id": "",
       "version_major": 2,
       "version_minor": 0
      },
      "text/plain": [
       "FloatProgress(value=0.0, bar_style='info', description='Progress:', layout=Layout(height='25px', width='50%'),…"
      ]
     },
     "metadata": {},
     "output_type": "display_data"
    },
    {
     "name": "stdout",
     "output_type": "stream",
     "text": [
      "+---------+-------------+---------+\n",
      "|   tconst|averageRating| numVotes|\n",
      "+---------+-------------+---------+\n",
      "|tt0111161|          9.3|2159745.0|\n",
      "|tt0468569|          9.0|2134602.0|\n",
      "|tt1375666|          8.8|1892958.0|\n",
      "|tt0137523|          8.8|1725444.0|\n",
      "|tt0110912|          8.9|1695159.0|\n",
      "|tt0109830|          8.8|1662609.0|\n",
      "|tt0944947|          9.4|1606096.0|\n",
      "|tt0133093|          8.7|1554345.0|\n",
      "|tt0120737|          8.8|1548920.0|\n",
      "|tt0167260|          8.9|1533632.0|\n",
      "|tt0068646|          9.2|1482225.0|\n",
      "|tt1345836|          8.4|1421506.0|\n",
      "|tt0167261|          8.7|1387208.0|\n",
      "|tt0816692|          8.6|1348184.0|\n",
      "|tt0114369|          8.6|1327441.0|\n",
      "+---------+-------------+---------+\n",
      "only showing top 15 rows"
     ]
    }
   ],
   "source": [
    "from pyspark.sql.functions import col\n",
    "from pyspark.sql.types import FloatType\n",
    "\n",
    "ratings = ratings.withColumn('numVotes', ratings.numVotes.cast(FloatType()))\n",
    "ratings.sort(col('numVotes').desc()).show(15)"
   ]
  },
  {
   "cell_type": "markdown",
   "id": "e77cf460",
   "metadata": {},
   "source": [
    "# Overview of Data"
   ]
  },
  {
   "cell_type": "markdown",
   "id": "2bc943bf",
   "metadata": {},
   "source": [
    "Display the number of rows and columns in each dataFrame object."
   ]
  },
  {
   "cell_type": "code",
   "execution_count": 14,
   "id": "15b35f7a",
   "metadata": {
    "execution": {
     "iopub.execute_input": "2023-12-13T00:37:35.050960Z",
     "iopub.status.busy": "2023-12-13T00:37:35.050583Z",
     "iopub.status.idle": "2023-12-13T00:37:54.487056Z",
     "shell.execute_reply": "2023-12-13T00:37:54.486017Z",
     "shell.execute_reply.started": "2023-12-13T00:37:35.050869Z"
    },
    "tags": []
   },
   "outputs": [
    {
     "data": {
      "application/vnd.jupyter.widget-view+json": {
       "model_id": "c6853786e4a0494ba9c4a296f197837e",
       "version_major": 2,
       "version_minor": 0
      },
      "text/plain": [
       "VBox()"
      ]
     },
     "metadata": {},
     "output_type": "display_data"
    },
    {
     "data": {
      "application/vnd.jupyter.widget-view+json": {
       "model_id": "",
       "version_major": 2,
       "version_minor": 0
      },
      "text/plain": [
       "FloatProgress(value=0.0, bar_style='info', description='Progress:', layout=Layout(height='25px', width='50%'),…"
      ]
     },
     "metadata": {},
     "output_type": "display_data"
    },
    {
     "name": "stdout",
     "output_type": "stream",
     "text": [
      "Number of columns in Name Basics table:  6\n",
      "Number of rows in Names Basics table:  9706922 \n",
      "\n",
      "Number of columns in Title Basics table:  9\n",
      "Number of rows in Title Basics table:  6321302 \n",
      "\n",
      "Number of columns in Title Principles table:  6\n",
      "Number of rows in Title Principles table:  36468817 \n",
      "\n",
      "Number of columns in Title Ratings table:  3\n",
      "Number of rows in Title Ratings table:  993153"
     ]
    }
   ],
   "source": [
    "print('Number of columns in Name Basics table: ', len(name.columns))\n",
    "print('Number of rows in Names Basics table: ', name.count(), '\\n')\n",
    "\n",
    "print('Number of columns in Title Basics table: ', len(titles.columns))\n",
    "print('Number of rows in Title Basics table: ', titles.count(), '\\n')\n",
    "\n",
    "print('Number of columns in Title Principles table: ', len(principles.columns))\n",
    "print('Number of rows in Title Principles table: ', principles.count(), '\\n')\n",
    "\n",
    "print('Number of columns in Title Ratings table: ', len(ratings.columns))\n",
    "print('Number of rows in Title Ratings table: ', ratings.count())"
   ]
  },
  {
   "cell_type": "markdown",
   "id": "b45c87a7",
   "metadata": {},
   "source": [
    "# PART 2 - Analyzing Genres"
   ]
  },
  {
   "cell_type": "markdown",
   "id": "37c839bd",
   "metadata": {},
   "source": [
    "Let's now answer this question: how many unique genres are represented in this dataset?\n",
    "\n",
    "Essentially, we have the genres per movie as a list - this is useful to quickly see what each movie might be represented as but it is difficult to easily answer questions such as:\n",
    "\n",
    "* How many movies are categorized as Comedy, for instance?\n",
    "* What are the top 20 most popular genres available?"
   ]
  },
  {
   "cell_type": "markdown",
   "id": "509eb185",
   "metadata": {},
   "source": [
    "## Association Table\n",
    "\n",
    "We need to \"break out\" these genres from the tconst? One common approach to take is to build an association table mapping a single tconst multiple times to each distinct genre.\n",
    "\n",
    "For instance, given the following:\n",
    "\n",
    "\n",
    "| tconst   | titleType  |genres |\n",
    "|----------|------------|-------|\n",
    "| abcd123  | XXX        |a,b,c  |\n",
    "\n",
    "We would like to derive something like:\n",
    "\n",
    "| tconst   |  titleType |genre |\n",
    "|----------|------------|------|\n",
    "| abcd123  | XXX        |a     |\n",
    "| abcd123  | XXX        |b     |\n",
    "| abcd123  | XXX        |c     |\n",
    "\n",
    "\n",
    "What this does is allow us to then perform a myriad of rollups and other analysis on this association table which can aid us in answering the questions asked above.\n",
    "\n",
    "Implement the code necessary to derive the table described from the data set"
   ]
  },
  {
   "cell_type": "code",
   "execution_count": 15,
   "id": "6da24c15",
   "metadata": {
    "execution": {
     "iopub.execute_input": "2023-12-13T00:37:54.488482Z",
     "iopub.status.busy": "2023-12-13T00:37:54.488123Z",
     "iopub.status.idle": "2023-12-13T00:37:54.761574Z",
     "shell.execute_reply": "2023-12-13T00:37:54.760724Z",
     "shell.execute_reply.started": "2023-12-13T00:37:54.488446Z"
    },
    "tags": []
   },
   "outputs": [
    {
     "data": {
      "application/vnd.jupyter.widget-view+json": {
       "model_id": "9d3021b335044106a2e4105f3aaba559",
       "version_major": 2,
       "version_minor": 0
      },
      "text/plain": [
       "VBox()"
      ]
     },
     "metadata": {},
     "output_type": "display_data"
    },
    {
     "data": {
      "application/vnd.jupyter.widget-view+json": {
       "model_id": "",
       "version_major": 2,
       "version_minor": 0
      },
      "text/plain": [
       "FloatProgress(value=0.0, bar_style='info', description='Progress:', layout=Layout(height='25px', width='50%'),…"
      ]
     },
     "metadata": {},
     "output_type": "display_data"
    },
    {
     "name": "stdout",
     "output_type": "stream",
     "text": [
      "+---------+---------+--------------------+\n",
      "|   tconst|titleType|              genres|\n",
      "+---------+---------+--------------------+\n",
      "|tt0000001|    short|   Documentary,Short|\n",
      "|tt0000002|    short|     Animation,Short|\n",
      "|tt0000003|    short|Animation,Comedy,...|\n",
      "|tt0000004|    short|     Animation,Short|\n",
      "|tt0000005|    short|        Comedy,Short|\n",
      "+---------+---------+--------------------+\n",
      "only showing top 5 rows"
     ]
    }
   ],
   "source": [
    "genres = titles.select('tconst', 'titleType', 'genres')\n",
    "genres.show(5)"
   ]
  },
  {
   "cell_type": "markdown",
   "id": "7e215c7e",
   "metadata": {},
   "source": [
    "Display the first 10 rows of your association table below"
   ]
  },
  {
   "cell_type": "code",
   "execution_count": 16,
   "id": "eee1cc98",
   "metadata": {
    "execution": {
     "iopub.execute_input": "2023-12-13T00:37:54.763240Z",
     "iopub.status.busy": "2023-12-13T00:37:54.762906Z",
     "iopub.status.idle": "2023-12-13T00:37:55.023975Z",
     "shell.execute_reply": "2023-12-13T00:37:55.023090Z",
     "shell.execute_reply.started": "2023-12-13T00:37:54.763202Z"
    },
    "tags": []
   },
   "outputs": [
    {
     "data": {
      "application/vnd.jupyter.widget-view+json": {
       "model_id": "409473827927472e92406a406eb97b5b",
       "version_major": 2,
       "version_minor": 0
      },
      "text/plain": [
       "VBox()"
      ]
     },
     "metadata": {},
     "output_type": "display_data"
    },
    {
     "data": {
      "application/vnd.jupyter.widget-view+json": {
       "model_id": "",
       "version_major": 2,
       "version_minor": 0
      },
      "text/plain": [
       "FloatProgress(value=0.0, bar_style='info', description='Progress:', layout=Layout(height='25px', width='50%'),…"
      ]
     },
     "metadata": {},
     "output_type": "display_data"
    },
    {
     "name": "stdout",
     "output_type": "stream",
     "text": [
      "+---------+---------+-----------+\n",
      "|   tconst|titleType|      genre|\n",
      "+---------+---------+-----------+\n",
      "|tt0000001|    short|Documentary|\n",
      "|tt0000001|    short|      Short|\n",
      "|tt0000002|    short|  Animation|\n",
      "|tt0000002|    short|      Short|\n",
      "|tt0000003|    short|  Animation|\n",
      "|tt0000003|    short|     Comedy|\n",
      "|tt0000003|    short|    Romance|\n",
      "|tt0000004|    short|  Animation|\n",
      "|tt0000004|    short|      Short|\n",
      "|tt0000005|    short|     Comedy|\n",
      "+---------+---------+-----------+\n",
      "only showing top 10 rows"
     ]
    }
   ],
   "source": [
    "from pyspark.sql.functions import split, col, explode\n",
    "\n",
    "genre_split = genres.withColumn('genre', explode(split('genres', \",\")))\n",
    "genre_split.select('tconst', 'titleType', 'genre').show(10)"
   ]
  },
  {
   "cell_type": "markdown",
   "id": "9a80280d",
   "metadata": {},
   "source": [
    "## Total Unique Genres"
   ]
  },
  {
   "cell_type": "markdown",
   "id": "b0db9e0c",
   "metadata": {},
   "source": [
    "**What is the total number of unique genres available in the movie title type?**"
   ]
  },
  {
   "cell_type": "code",
   "execution_count": 17,
   "id": "c6044252",
   "metadata": {
    "execution": {
     "iopub.execute_input": "2023-12-13T00:37:55.025309Z",
     "iopub.status.busy": "2023-12-13T00:37:55.025072Z",
     "iopub.status.idle": "2023-12-13T00:38:04.326847Z",
     "shell.execute_reply": "2023-12-13T00:38:04.325954Z",
     "shell.execute_reply.started": "2023-12-13T00:37:55.025278Z"
    },
    "tags": []
   },
   "outputs": [
    {
     "data": {
      "application/vnd.jupyter.widget-view+json": {
       "model_id": "749d9f410cdc4819965f95e0d856b769",
       "version_major": 2,
       "version_minor": 0
      },
      "text/plain": [
       "VBox()"
      ]
     },
     "metadata": {},
     "output_type": "display_data"
    },
    {
     "data": {
      "application/vnd.jupyter.widget-view+json": {
       "model_id": "",
       "version_major": 2,
       "version_minor": 0
      },
      "text/plain": [
       "FloatProgress(value=0.0, bar_style='info', description='Progress:', layout=Layout(height='25px', width='50%'),…"
      ]
     },
     "metadata": {},
     "output_type": "display_data"
    },
    {
     "name": "stdout",
     "output_type": "stream",
     "text": [
      "29"
     ]
    }
   ],
   "source": [
    "genre_split.select('genre').distinct().count()"
   ]
  },
  {
   "cell_type": "markdown",
   "id": "5819adcc",
   "metadata": {},
   "source": [
    "**What are the unique genres available?**"
   ]
  },
  {
   "cell_type": "code",
   "execution_count": 18,
   "id": "2ecdf3ad",
   "metadata": {
    "execution": {
     "iopub.execute_input": "2023-12-13T00:38:04.328280Z",
     "iopub.status.busy": "2023-12-13T00:38:04.327946Z",
     "iopub.status.idle": "2023-12-13T00:38:11.625198Z",
     "shell.execute_reply": "2023-12-13T00:38:11.624414Z",
     "shell.execute_reply.started": "2023-12-13T00:38:04.328254Z"
    },
    "tags": []
   },
   "outputs": [
    {
     "data": {
      "application/vnd.jupyter.widget-view+json": {
       "model_id": "a6ef2dba94a94a94983574497b95820a",
       "version_major": 2,
       "version_minor": 0
      },
      "text/plain": [
       "VBox()"
      ]
     },
     "metadata": {},
     "output_type": "display_data"
    },
    {
     "data": {
      "application/vnd.jupyter.widget-view+json": {
       "model_id": "",
       "version_major": 2,
       "version_minor": 0
      },
      "text/plain": [
       "FloatProgress(value=0.0, bar_style='info', description='Progress:', layout=Layout(height='25px', width='50%'),…"
      ]
     },
     "metadata": {},
     "output_type": "display_data"
    },
    {
     "name": "stdout",
     "output_type": "stream",
     "text": [
      "+-----------+\n",
      "|genre      |\n",
      "+-----------+\n",
      "|Mystery    |\n",
      "|Musical    |\n",
      "|Sport      |\n",
      "|Action     |\n",
      "|Talk-Show  |\n",
      "|Romance    |\n",
      "|Thriller   |\n",
      "|\\N         |\n",
      "|Reality-TV |\n",
      "|Family     |\n",
      "|Fantasy    |\n",
      "|History    |\n",
      "|Animation  |\n",
      "|Film-Noir  |\n",
      "|Short      |\n",
      "|Sci-Fi     |\n",
      "|News       |\n",
      "|Drama      |\n",
      "|Documentary|\n",
      "|Western    |\n",
      "|Comedy     |\n",
      "|Crime      |\n",
      "|War        |\n",
      "|Game-Show  |\n",
      "|Adult      |\n",
      "|Music      |\n",
      "|Biography  |\n",
      "|Adventure  |\n",
      "|Horror     |\n",
      "+-----------+"
     ]
    }
   ],
   "source": [
    "genre_split.select('genre').distinct().show(29, truncate=False)"
   ]
  },
  {
   "cell_type": "markdown",
   "id": "4c5f3022",
   "metadata": {},
   "source": [
    "**Oops! Something is off!**"
   ]
  },
  {
   "cell_type": "code",
   "execution_count": 19,
   "id": "e699b5ae",
   "metadata": {
    "execution": {
     "iopub.execute_input": "2023-12-13T00:38:11.626901Z",
     "iopub.status.busy": "2023-12-13T00:38:11.626540Z",
     "iopub.status.idle": "2023-12-13T00:38:20.949007Z",
     "shell.execute_reply": "2023-12-13T00:38:20.947330Z",
     "shell.execute_reply.started": "2023-12-13T00:38:11.626863Z"
    },
    "tags": []
   },
   "outputs": [
    {
     "data": {
      "application/vnd.jupyter.widget-view+json": {
       "model_id": "18b3d295ed4e4649876e10242cde6fa3",
       "version_major": 2,
       "version_minor": 0
      },
      "text/plain": [
       "VBox()"
      ]
     },
     "metadata": {},
     "output_type": "display_data"
    },
    {
     "data": {
      "application/vnd.jupyter.widget-view+json": {
       "model_id": "",
       "version_major": 2,
       "version_minor": 0
      },
      "text/plain": [
       "FloatProgress(value=0.0, bar_style='info', description='Progress:', layout=Layout(height='25px', width='50%'),…"
      ]
     },
     "metadata": {},
     "output_type": "display_data"
    },
    {
     "name": "stdout",
     "output_type": "stream",
     "text": [
      "+-----------+\n",
      "|genre      |\n",
      "+-----------+\n",
      "|Mystery    |\n",
      "|Musical    |\n",
      "|Sport      |\n",
      "|Action     |\n",
      "|Talk-Show  |\n",
      "|Romance    |\n",
      "|Thriller   |\n",
      "|Reality-TV |\n",
      "|Family     |\n",
      "|Fantasy    |\n",
      "|History    |\n",
      "|Animation  |\n",
      "|Film-Noir  |\n",
      "|Short      |\n",
      "|Sci-Fi     |\n",
      "|News       |\n",
      "|Drama      |\n",
      "|Documentary|\n",
      "|Western    |\n",
      "|Comedy     |\n",
      "|Crime      |\n",
      "|War        |\n",
      "|Game-Show  |\n",
      "|Adult      |\n",
      "|Music      |\n",
      "|Biography  |\n",
      "|Adventure  |\n",
      "|Horror     |\n",
      "+-----------+"
     ]
    }
   ],
   "source": [
    "from pyspark.sql.functions import col\n",
    "\n",
    "nll = '\\\\N'\n",
    "genre_split = genre_split.filter(col('genre') != nll)\n",
    "genre_split.select('genre').distinct().show(28, truncate=False)"
   ]
  },
  {
   "cell_type": "markdown",
   "id": "b7d29ebd",
   "metadata": {},
   "source": [
    "## Top Genres by Movies\n",
    "\n",
    "Now let's find the highest rated genres in this dataset by rolling up genres."
   ]
  },
  {
   "cell_type": "markdown",
   "id": "de4c28e3",
   "metadata": {},
   "source": [
    "### Average Rating / Genre"
   ]
  },
  {
   "cell_type": "markdown",
   "id": "49f1153c",
   "metadata": {},
   "source": [
    "So now, let's unroll our distinct count a bit and display the per average rating value of per genre.\n",
    "\n",
    "The expected output should be:\n",
    "\n",
    "| genre | averageRating |\n",
    "|-------------|------------|\n",
    "| a     | 8.5         |\n",
    "| b     | 6.3         |\n",
    "| c     | 7.2         |\n",
    "\n",
    "Or something to that effect."
   ]
  },
  {
   "cell_type": "markdown",
   "id": "15423dc6",
   "metadata": {},
   "source": [
    "First, let's join our two dataframes (movie ratings and genres) by tconst"
   ]
  },
  {
   "cell_type": "code",
   "execution_count": 20,
   "id": "71b5d21b",
   "metadata": {
    "execution": {
     "iopub.execute_input": "2023-12-13T00:38:20.950356Z",
     "iopub.status.busy": "2023-12-13T00:38:20.950093Z",
     "iopub.status.idle": "2023-12-13T00:38:30.296913Z",
     "shell.execute_reply": "2023-12-13T00:38:30.296035Z",
     "shell.execute_reply.started": "2023-12-13T00:38:20.950330Z"
    },
    "tags": []
   },
   "outputs": [
    {
     "data": {
      "application/vnd.jupyter.widget-view+json": {
       "model_id": "d3777384ee4e4fefa6b66d13777cf4d7",
       "version_major": 2,
       "version_minor": 0
      },
      "text/plain": [
       "VBox()"
      ]
     },
     "metadata": {},
     "output_type": "display_data"
    },
    {
     "data": {
      "application/vnd.jupyter.widget-view+json": {
       "model_id": "",
       "version_major": 2,
       "version_minor": 0
      },
      "text/plain": [
       "FloatProgress(value=0.0, bar_style='info', description='Progress:', layout=Layout(height='25px', width='50%'),…"
      ]
     },
     "metadata": {},
     "output_type": "display_data"
    },
    {
     "name": "stdout",
     "output_type": "stream",
     "text": [
      "+---------+-------------+\n",
      "|    genre|averageRating|\n",
      "+---------+-------------+\n",
      "|    Drama|          4.2|\n",
      "|    Drama|          4.2|\n",
      "|Biography|          4.1|\n",
      "|    Drama|          4.1|\n",
      "|  History|          4.1|\n",
      "|    Drama|          5.7|\n",
      "|    Drama|          4.6|\n",
      "|  History|          4.6|\n",
      "|Biography|          6.3|\n",
      "|    Drama|          6.3|\n",
      "+---------+-------------+\n",
      "only showing top 10 rows"
     ]
    }
   ],
   "source": [
    "movies_ratings = ratings.join(genre_split, 'tconst').filter(col('titleType') == 'movie')\n",
    "movies_ratings.select('genre', 'averageRating').show(10)"
   ]
  },
  {
   "cell_type": "markdown",
   "id": "98094ca8",
   "metadata": {},
   "source": [
    "Now, let's aggregate along the averageRating column to get a resultant dataframe that displays average rating per genre."
   ]
  },
  {
   "cell_type": "code",
   "execution_count": 21,
   "id": "317c522c",
   "metadata": {
    "execution": {
     "iopub.execute_input": "2023-12-13T00:38:30.298190Z",
     "iopub.status.busy": "2023-12-13T00:38:30.297963Z",
     "iopub.status.idle": "2023-12-13T00:38:39.624453Z",
     "shell.execute_reply": "2023-12-13T00:38:39.623346Z",
     "shell.execute_reply.started": "2023-12-13T00:38:30.298166Z"
    }
   },
   "outputs": [
    {
     "data": {
      "application/vnd.jupyter.widget-view+json": {
       "model_id": "22875d7159e140b79cc3cdb5c927f293",
       "version_major": 2,
       "version_minor": 0
      },
      "text/plain": [
       "VBox()"
      ]
     },
     "metadata": {},
     "output_type": "display_data"
    },
    {
     "data": {
      "application/vnd.jupyter.widget-view+json": {
       "model_id": "",
       "version_major": 2,
       "version_minor": 0
      },
      "text/plain": [
       "FloatProgress(value=0.0, bar_style='info', description='Progress:', layout=Layout(height='25px', width='50%'),…"
      ]
     },
     "metadata": {},
     "output_type": "display_data"
    },
    {
     "name": "stdout",
     "output_type": "stream",
     "text": [
      "+-----------+-----------------+\n",
      "|genre      |avg_rating       |\n",
      "+-----------+-----------------+\n",
      "|Mystery    |5.940437537126316|\n",
      "|Musical    |6.203246053185319|\n",
      "|Action     |5.718734067904495|\n",
      "|Sport      |6.600145190943391|\n",
      "|Romance    |6.125714179294426|\n",
      "|Thriller   |5.625967567519544|\n",
      "|Family     |6.250560452699635|\n",
      "|Fantasy    |5.924820762891499|\n",
      "|History    |6.822718117193864|\n",
      "|Animation  |6.326203749467441|\n",
      "|Film-Noir  |6.636246780503378|\n",
      "|Sci-Fi     |5.325150006900168|\n",
      "|News       |7.200916040944689|\n",
      "|Drama      |6.288080211097538|\n",
      "|Documentary|7.245469805371099|\n",
      "|Western    |5.948970991005059|\n",
      "|Comedy     |5.941363107822231|\n",
      "|Crime      |6.026013333109149|\n",
      "|War        |6.483807036278403|\n",
      "|Adult      |5.721742579082059|\n",
      "+-----------+-----------------+\n",
      "only showing top 20 rows"
     ]
    }
   ],
   "source": [
    "from pyspark.sql.functions import avg\n",
    "\n",
    "#Aggregate along averageRating column \n",
    "movies_ratings = movies_ratings.withColumn('averageRating', movies_ratings.averageRating.cast(FloatType()))\n",
    "avg_movies_ratings = movies_ratings.groupBy('genre').agg(avg('averageRating'))\n",
    "\n",
    "#Rename aggregate average rating column\n",
    "avg_movies_ratings = avg_movies_ratings.withColumnRenamed('avg(averageRating)', 'avg_rating')\n",
    "avg_movies_ratings.show(truncate=False)"
   ]
  },
  {
   "cell_type": "markdown",
   "id": "b1fd4e61",
   "metadata": {},
   "source": [
    "### Horizontal Bar Chart of Top Genres\n",
    "\n",
    "With this data available, let us now build a barchart of all genres \n",
    "\n",
    "**HINT**: don't forget about the matplotlib magic!\n",
    "\n",
    "```\n",
    "%matplot plt\n",
    "```"
   ]
  },
  {
   "cell_type": "code",
   "execution_count": 22,
   "id": "2865ccdb",
   "metadata": {
    "execution": {
     "iopub.execute_input": "2023-12-13T00:38:39.626233Z",
     "iopub.status.busy": "2023-12-13T00:38:39.625881Z",
     "iopub.status.idle": "2023-12-13T00:38:48.964012Z",
     "shell.execute_reply": "2023-12-13T00:38:48.963020Z",
     "shell.execute_reply.started": "2023-12-13T00:38:39.626185Z"
    },
    "tags": []
   },
   "outputs": [
    {
     "data": {
      "application/vnd.jupyter.widget-view+json": {
       "model_id": "a265573fb53a494ab0806f02082b4d8b",
       "version_major": 2,
       "version_minor": 0
      },
      "text/plain": [
       "VBox()"
      ]
     },
     "metadata": {},
     "output_type": "display_data"
    },
    {
     "data": {
      "application/vnd.jupyter.widget-view+json": {
       "model_id": "",
       "version_major": 2,
       "version_minor": 0
      },
      "text/plain": [
       "FloatProgress(value=0.0, bar_style='info', description='Progress:', layout=Layout(height='25px', width='50%'),…"
      ]
     },
     "metadata": {},
     "output_type": "display_data"
    },
    {
     "name": "stdout",
     "output_type": "stream",
     "text": [
      "+-----------+-----------------+\n",
      "|genre      |avg_rating       |\n",
      "+-----------+-----------------+\n",
      "|Short      |7.259999942779541|\n",
      "|Documentary|7.245469805371099|\n",
      "|News       |7.200916040944689|\n",
      "|Biography  |6.983637643044585|\n",
      "|Game-Show  |6.974999904632568|\n",
      "|History    |6.822718117193864|\n",
      "|Music      |6.752020207214588|\n",
      "|Film-Noir  |6.636246780503378|\n",
      "|Sport      |6.600145190943391|\n",
      "|War        |6.483807036278403|\n",
      "|Reality-TV |6.379310377712907|\n",
      "|Animation  |6.326203749467441|\n",
      "|Drama      |6.288080211097538|\n",
      "|Family     |6.250560452699635|\n",
      "|Musical    |6.203246053185319|\n",
      "|Romance    |6.125714179294426|\n",
      "|Crime      |6.026013333109149|\n",
      "|Western    |5.948970991005059|\n",
      "|Comedy     |5.941363107822231|\n",
      "|Mystery    |5.940437537126316|\n",
      "+-----------+-----------------+\n",
      "only showing top 20 rows"
     ]
    }
   ],
   "source": [
    "avg_movies_ratings.sort(col('avg_rating').desc()).show(truncate=False)"
   ]
  },
  {
   "cell_type": "code",
   "execution_count": 23,
   "id": "4a868d3d",
   "metadata": {
    "execution": {
     "iopub.execute_input": "2023-12-13T00:38:48.969192Z",
     "iopub.status.busy": "2023-12-13T00:38:48.968938Z",
     "iopub.status.idle": "2023-12-13T00:38:58.304531Z",
     "shell.execute_reply": "2023-12-13T00:38:58.303712Z",
     "shell.execute_reply.started": "2023-12-13T00:38:48.969166Z"
    },
    "tags": []
   },
   "outputs": [
    {
     "data": {
      "application/vnd.jupyter.widget-view+json": {
       "model_id": "53f44566ca95445b8ec69610662823f2",
       "version_major": 2,
       "version_minor": 0
      },
      "text/plain": [
       "VBox()"
      ]
     },
     "metadata": {},
     "output_type": "display_data"
    },
    {
     "data": {
      "application/vnd.jupyter.widget-view+json": {
       "model_id": "",
       "version_major": 2,
       "version_minor": 0
      },
      "text/plain": [
       "FloatProgress(value=0.0, bar_style='info', description='Progress:', layout=Layout(height='25px', width='50%'),…"
      ]
     },
     "metadata": {},
     "output_type": "display_data"
    },
    {
     "data": {
      "image/png": "[encoded data removed]",
      "text/plain": [
       "<IPython.core.display.Image object>"
      ]
     },
     "metadata": {},
     "output_type": "display_data"
    }
   ],
   "source": [
    "pd_df1 = avg_movies_ratings.sort(col('avg_rating').asc()).toPandas()\n",
    "\n",
    "plt.figure(figsize=(12, 8))\n",
    "plt.barh(pd_df1.genre, pd_df1.avg_rating, color='darkviolet', label='avg_rating')\n",
    "plt.xlabel('Average Ratings')\n",
    "plt.ylabel('Genre')\n",
    "plt.xlim([5.0, 7.5])\n",
    "plt.title('Top Genres in Movie Category')\n",
    "%matplot plt"
   ]
  },
  {
   "cell_type": "markdown",
   "id": "3671c612",
   "metadata": {},
   "source": [
    "## PART 3 - Analyzing Job Categories"
   ]
  },
  {
   "cell_type": "markdown",
   "id": "2912a0ba",
   "metadata": {},
   "source": [
    "## Total Unique Job Categories"
   ]
  },
  {
   "cell_type": "markdown",
   "id": "099531c0",
   "metadata": {},
   "source": [
    "**What is the total number of unique job categories?**"
   ]
  },
  {
   "cell_type": "code",
   "execution_count": 24,
   "id": "bf5ea336",
   "metadata": {
    "execution": {
     "iopub.execute_input": "2023-12-13T00:38:58.306852Z",
     "iopub.status.busy": "2023-12-13T00:38:58.306525Z",
     "iopub.status.idle": "2023-12-13T00:38:58.563052Z",
     "shell.execute_reply": "2023-12-13T00:38:58.562236Z",
     "shell.execute_reply.started": "2023-12-13T00:38:58.306815Z"
    },
    "tags": []
   },
   "outputs": [
    {
     "data": {
      "application/vnd.jupyter.widget-view+json": {
       "model_id": "99e6a99897c44173aaa9a8c3e34ce280",
       "version_major": 2,
       "version_minor": 0
      },
      "text/plain": [
       "VBox()"
      ]
     },
     "metadata": {},
     "output_type": "display_data"
    },
    {
     "data": {
      "application/vnd.jupyter.widget-view+json": {
       "model_id": "",
       "version_major": 2,
       "version_minor": 0
      },
      "text/plain": [
       "FloatProgress(value=0.0, bar_style='info', description='Progress:', layout=Layout(height='25px', width='50%'),…"
      ]
     },
     "metadata": {},
     "output_type": "display_data"
    },
    {
     "name": "stdout",
     "output_type": "stream",
     "text": [
      "+---------+---------------+\n",
      "|   tconst|       category|\n",
      "+---------+---------------+\n",
      "|tt0000001|           self|\n",
      "|tt0000001|       director|\n",
      "|tt0000001|cinematographer|\n",
      "|tt0000002|       director|\n",
      "|tt0000002|       composer|\n",
      "+---------+---------------+\n",
      "only showing top 5 rows"
     ]
    }
   ],
   "source": [
    "principles.select('tconst', 'category').show(5)"
   ]
  },
  {
   "cell_type": "code",
   "execution_count": 25,
   "id": "44203333",
   "metadata": {
    "execution": {
     "iopub.execute_input": "2023-12-13T00:38:58.565090Z",
     "iopub.status.busy": "2023-12-13T00:38:58.564175Z",
     "iopub.status.idle": "2023-12-13T00:39:26.501594Z",
     "shell.execute_reply": "2023-12-13T00:39:26.500836Z",
     "shell.execute_reply.started": "2023-12-13T00:38:58.565063Z"
    },
    "tags": []
   },
   "outputs": [
    {
     "data": {
      "application/vnd.jupyter.widget-view+json": {
       "model_id": "95319960ea63421c840267ca49126792",
       "version_major": 2,
       "version_minor": 0
      },
      "text/plain": [
       "VBox()"
      ]
     },
     "metadata": {},
     "output_type": "display_data"
    },
    {
     "data": {
      "application/vnd.jupyter.widget-view+json": {
       "model_id": "",
       "version_major": 2,
       "version_minor": 0
      },
      "text/plain": [
       "FloatProgress(value=0.0, bar_style='info', description='Progress:', layout=Layout(height='25px', width='50%'),…"
      ]
     },
     "metadata": {},
     "output_type": "display_data"
    },
    {
     "name": "stdout",
     "output_type": "stream",
     "text": [
      "12"
     ]
    }
   ],
   "source": [
    "principles.select('category').distinct().count()"
   ]
  },
  {
   "cell_type": "markdown",
   "id": "c3b2f7b4",
   "metadata": {},
   "source": [
    "**What are the unique job categories available?**"
   ]
  },
  {
   "cell_type": "code",
   "execution_count": 26,
   "id": "e03438b0",
   "metadata": {
    "execution": {
     "iopub.execute_input": "2023-12-13T00:39:26.503272Z",
     "iopub.status.busy": "2023-12-13T00:39:26.502938Z",
     "iopub.status.idle": "2023-12-13T00:39:53.884401Z",
     "shell.execute_reply": "2023-12-13T00:39:53.883487Z",
     "shell.execute_reply.started": "2023-12-13T00:39:26.503234Z"
    },
    "tags": []
   },
   "outputs": [
    {
     "data": {
      "application/vnd.jupyter.widget-view+json": {
       "model_id": "d9865949222241aaa2e08d1da3a7664a",
       "version_major": 2,
       "version_minor": 0
      },
      "text/plain": [
       "VBox()"
      ]
     },
     "metadata": {},
     "output_type": "display_data"
    },
    {
     "data": {
      "application/vnd.jupyter.widget-view+json": {
       "model_id": "",
       "version_major": 2,
       "version_minor": 0
      },
      "text/plain": [
       "FloatProgress(value=0.0, bar_style='info', description='Progress:', layout=Layout(height='25px', width='50%'),…"
      ]
     },
     "metadata": {},
     "output_type": "display_data"
    },
    {
     "name": "stdout",
     "output_type": "stream",
     "text": [
      "+-------------------+\n",
      "|category           |\n",
      "+-------------------+\n",
      "|actress            |\n",
      "|producer           |\n",
      "|production_designer|\n",
      "|writer             |\n",
      "|actor              |\n",
      "|cinematographer    |\n",
      "|archive_sound      |\n",
      "|archive_footage    |\n",
      "|self               |\n",
      "|editor             |\n",
      "|composer           |\n",
      "|director           |\n",
      "+-------------------+"
     ]
    }
   ],
   "source": [
    "principles.select('category').distinct().show(truncate=False)"
   ]
  },
  {
   "cell_type": "markdown",
   "id": "47312540",
   "metadata": {},
   "source": [
    "## Top Job Categories"
   ]
  },
  {
   "cell_type": "markdown",
   "id": "61df21f0",
   "metadata": {},
   "source": [
    "Now let's find the top job categories in this dataset by rolling up categories."
   ]
  },
  {
   "cell_type": "markdown",
   "id": "2d56869a",
   "metadata": {},
   "source": [
    "### Counts of Titles / Job Category"
   ]
  },
  {
   "cell_type": "markdown",
   "id": "ae87af2f",
   "metadata": {},
   "source": [
    "The expected output should be:\n",
    "\n",
    "| category | count |\n",
    "|-------------|------------|\n",
    "| a     | 15         |\n",
    "| b     | 2          |\n",
    "| c     | 45          |\n",
    "\n",
    "Or something to that effect."
   ]
  },
  {
   "cell_type": "code",
   "execution_count": 27,
   "id": "f3d65964",
   "metadata": {
    "execution": {
     "iopub.execute_input": "2023-12-13T00:39:53.885697Z",
     "iopub.status.busy": "2023-12-13T00:39:53.885465Z",
     "iopub.status.idle": "2023-12-13T00:40:19.239066Z",
     "shell.execute_reply": "2023-12-13T00:40:19.238190Z",
     "shell.execute_reply.started": "2023-12-13T00:39:53.885673Z"
    },
    "tags": []
   },
   "outputs": [
    {
     "data": {
      "application/vnd.jupyter.widget-view+json": {
       "model_id": "09a3b88f662248c7bab2b2d051f60187",
       "version_major": 2,
       "version_minor": 0
      },
      "text/plain": [
       "VBox()"
      ]
     },
     "metadata": {},
     "output_type": "display_data"
    },
    {
     "data": {
      "application/vnd.jupyter.widget-view+json": {
       "model_id": "",
       "version_major": 2,
       "version_minor": 0
      },
      "text/plain": [
       "FloatProgress(value=0.0, bar_style='info', description='Progress:', layout=Layout(height='25px', width='50%'),…"
      ]
     },
     "metadata": {},
     "output_type": "display_data"
    },
    {
     "name": "stdout",
     "output_type": "stream",
     "text": [
      "+-------------------+-------+\n",
      "|category           |count  |\n",
      "+-------------------+-------+\n",
      "|actress            |6325097|\n",
      "|producer           |2197866|\n",
      "|production_designer|285924 |\n",
      "|writer             |4811596|\n",
      "|actor              |8493701|\n",
      "|cinematographer    |1300404|\n",
      "|archive_sound      |2143   |\n",
      "|archive_footage    |209035 |\n",
      "|self               |6153089|\n",
      "|editor             |1197669|\n",
      "|composer           |1313187|\n",
      "|director           |4179106|\n",
      "+-------------------+-------+"
     ]
    }
   ],
   "source": [
    "from pyspark.sql.functions import count\n",
    "\n",
    "cats_count = principles.groupBy('category').count()\n",
    "cats_count.show(truncate=False)"
   ]
  },
  {
   "cell_type": "markdown",
   "id": "f8671889",
   "metadata": {},
   "source": [
    "### Bar Chart of Top Job Categories\n",
    "\n",
    "With this data available, let us now build a barchart of the top 5 categories. \n",
    "\n",
    "**HINT**: don't forget about the matplotlib magic!\n",
    "\n",
    "```\n",
    "%matplot plt\n",
    "```"
   ]
  },
  {
   "cell_type": "code",
   "execution_count": 28,
   "id": "3c73edf1",
   "metadata": {
    "execution": {
     "iopub.execute_input": "2023-12-13T00:40:19.240295Z",
     "iopub.status.busy": "2023-12-13T00:40:19.239995Z",
     "iopub.status.idle": "2023-12-13T00:40:44.598990Z",
     "shell.execute_reply": "2023-12-13T00:40:44.598124Z",
     "shell.execute_reply.started": "2023-12-13T00:40:19.240267Z"
    },
    "tags": []
   },
   "outputs": [
    {
     "data": {
      "application/vnd.jupyter.widget-view+json": {
       "model_id": "81a322738d454ca88e8758b1caea28f6",
       "version_major": 2,
       "version_minor": 0
      },
      "text/plain": [
       "VBox()"
      ]
     },
     "metadata": {},
     "output_type": "display_data"
    },
    {
     "data": {
      "application/vnd.jupyter.widget-view+json": {
       "model_id": "",
       "version_major": 2,
       "version_minor": 0
      },
      "text/plain": [
       "FloatProgress(value=0.0, bar_style='info', description='Progress:', layout=Layout(height='25px', width='50%'),…"
      ]
     },
     "metadata": {},
     "output_type": "display_data"
    },
    {
     "name": "stdout",
     "output_type": "stream",
     "text": [
      "+-------------------+-------+\n",
      "|category           |count  |\n",
      "+-------------------+-------+\n",
      "|actor              |8493701|\n",
      "|actress            |6325097|\n",
      "|self               |6153089|\n",
      "|writer             |4811596|\n",
      "|director           |4179106|\n",
      "|producer           |2197866|\n",
      "|composer           |1313187|\n",
      "|cinematographer    |1300404|\n",
      "|editor             |1197669|\n",
      "|production_designer|285924 |\n",
      "|archive_footage    |209035 |\n",
      "|archive_sound      |2143   |\n",
      "+-------------------+-------+"
     ]
    }
   ],
   "source": [
    "cats_count_sorted = cats_count.sort(col('count').desc())\n",
    "cats_count_sorted.show(truncate=False)"
   ]
  },
  {
   "cell_type": "code",
   "execution_count": 29,
   "id": "eb4608e8-96d1-45d2-9d30-f53b5cd12688",
   "metadata": {
    "execution": {
     "iopub.execute_input": "2023-12-13T00:40:44.600451Z",
     "iopub.status.busy": "2023-12-13T00:40:44.600037Z",
     "iopub.status.idle": "2023-12-13T00:41:09.945675Z",
     "shell.execute_reply": "2023-12-13T00:41:09.944847Z",
     "shell.execute_reply.started": "2023-12-13T00:40:44.600422Z"
    },
    "tags": []
   },
   "outputs": [
    {
     "data": {
      "application/vnd.jupyter.widget-view+json": {
       "model_id": "cf6ff48e52ee4581907d89d7999bcc8c",
       "version_major": 2,
       "version_minor": 0
      },
      "text/plain": [
       "VBox()"
      ]
     },
     "metadata": {},
     "output_type": "display_data"
    },
    {
     "data": {
      "application/vnd.jupyter.widget-view+json": {
       "model_id": "",
       "version_major": 2,
       "version_minor": 0
      },
      "text/plain": [
       "FloatProgress(value=0.0, bar_style='info', description='Progress:', layout=Layout(height='25px', width='50%'),…"
      ]
     },
     "metadata": {},
     "output_type": "display_data"
    },
    {
     "data": {
      "image/png": "[encoded data removed]",
      "text/plain": [
       "<IPython.core.display.Image object>"
      ]
     },
     "metadata": {},
     "output_type": "display_data"
    }
   ],
   "source": [
    "pd_df = cats_count_sorted.limit(5).toPandas()\n",
    "\n",
    "plt.figure(figsize=(10, 6))\n",
    "plt.bar(pd_df['category'], pd_df['count'], color='orange', label='count')\n",
    "#pd_df.plot(kind='bar', x='category', y='count', color=\"orange\")\n",
    "plt.xlabel('Job Categories')\n",
    "plt.ylabel('Count')\n",
    "plt.xticks(rotation=30)\n",
    "plt.title('Top Job Categories')\n",
    "\n",
    "%matplot plt"
   ]
  },
  {
   "cell_type": "markdown",
   "id": "a4436c54",
   "metadata": {},
   "source": [
    "# PART 4 - Answer to the following questions:"
   ]
  },
  {
   "cell_type": "markdown",
   "id": "4c531a7b-8289-4784-825b-fabad415090b",
   "metadata": {},
   "source": [
    "You will need to join tables to answer the following questions.\n",
    "Your code should meet all the requirements given in the question."
   ]
  },
  {
   "cell_type": "markdown",
   "id": "17273925",
   "metadata": {},
   "source": [
    "## 1) What are the movies in which both Johnny Depp and Helena Bonham Carter have acted together?"
   ]
  },
  {
   "cell_type": "code",
   "execution_count": 30,
   "id": "dfced2cd",
   "metadata": {
    "execution": {
     "iopub.execute_input": "2023-12-13T00:41:09.946924Z",
     "iopub.status.busy": "2023-12-13T00:41:09.946704Z",
     "iopub.status.idle": "2023-12-13T00:42:09.406309Z",
     "shell.execute_reply": "2023-12-13T00:42:09.405582Z",
     "shell.execute_reply.started": "2023-12-13T00:41:09.946901Z"
    }
   },
   "outputs": [
    {
     "data": {
      "application/vnd.jupyter.widget-view+json": {
       "model_id": "6043871ed8d7454a8703fb78f7d79269",
       "version_major": 2,
       "version_minor": 0
      },
      "text/plain": [
       "VBox()"
      ]
     },
     "metadata": {},
     "output_type": "display_data"
    },
    {
     "data": {
      "application/vnd.jupyter.widget-view+json": {
       "model_id": "",
       "version_major": 2,
       "version_minor": 0
      },
      "text/plain": [
       "FloatProgress(value=0.0, bar_style='info', description='Progress:', layout=Layout(height='25px', width='50%'),…"
      ]
     },
     "metadata": {},
     "output_type": "display_data"
    },
    {
     "name": "stdout",
     "output_type": "stream",
     "text": [
      "+----------------------------------------------+\n",
      "|primaryTitle                                  |\n",
      "+----------------------------------------------+\n",
      "|Dark Shadows                                  |\n",
      "|Sweeney Todd: The Demon Barber of Fleet Street|\n",
      "|Corpse Bride                                  |\n",
      "|Charlie and the Chocolate Factory             |\n",
      "|Alice in Wonderland                           |\n",
      "|Alice Through the Looking Glass               |\n",
      "+----------------------------------------------+"
     ]
    }
   ],
   "source": [
    "names_principles = name.join(principles, 'nconst')\n",
    "names_principles_titles = names_principles.join(titles, 'tconst')\n",
    "\n",
    "#Create a dataframe for movies that Johnny Depp acted in\n",
    "jd = names_principles_titles.select('primaryTitle') \\\n",
    "    .filter((col('primaryName')=='Johnny Depp') & (col('titleType')=='movie'))\n",
    "\n",
    "#Create a dataframe for movies that Helena Bonham Carter acted in\n",
    "hbc = names_principles_titles.select('primaryTitle') \\\n",
    "    .filter((col('primaryName')=='Helena Bonham Carter') & (col('titleType')=='movie'))\n",
    "\n",
    "#Join the two dataframes together and display the result\n",
    "jd_hbc = jd.join(hbc, 'primaryTitle')\n",
    "jd_hbc.show(truncate=False)"
   ]
  },
  {
   "cell_type": "markdown",
   "id": "a43ca52f",
   "metadata": {},
   "source": [
    "## 2) What are the movies in which Brad Pitt has acted since 2010?"
   ]
  },
  {
   "cell_type": "code",
   "execution_count": 31,
   "id": "380d9cbf",
   "metadata": {
    "execution": {
     "iopub.execute_input": "2023-12-13T00:42:09.407569Z",
     "iopub.status.busy": "2023-12-13T00:42:09.407340Z",
     "iopub.status.idle": "2023-12-13T00:42:52.840914Z",
     "shell.execute_reply": "2023-12-13T00:42:52.840041Z",
     "shell.execute_reply.started": "2023-12-13T00:42:09.407547Z"
    }
   },
   "outputs": [
    {
     "data": {
      "application/vnd.jupyter.widget-view+json": {
       "model_id": "23a5c1a46df648c4a235e8d52cc501be",
       "version_major": 2,
       "version_minor": 0
      },
      "text/plain": [
       "VBox()"
      ]
     },
     "metadata": {},
     "output_type": "display_data"
    },
    {
     "data": {
      "application/vnd.jupyter.widget-view+json": {
       "model_id": "",
       "version_major": 2,
       "version_minor": 0
      },
      "text/plain": [
       "FloatProgress(value=0.0, bar_style='info', description='Progress:', layout=Layout(height='25px', width='50%'),…"
      ]
     },
     "metadata": {},
     "output_type": "display_data"
    },
    {
     "name": "stdout",
     "output_type": "stream",
     "text": [
      "+---------------------------------+---------+\n",
      "|primaryTitle                     |startYear|\n",
      "+---------------------------------+---------+\n",
      "|Babylon                          |2021     |\n",
      "|Once Upon a Time ... in Hollywood|2019     |\n",
      "|Ad Astra                         |2019     |\n",
      "|War Machine                      |2017     |\n",
      "|Allied                           |2016     |\n",
      "|The Big Short                    |2015     |\n",
      "|By the Sea                       |2015     |\n",
      "|Fury                             |2014     |\n",
      "|World War Z                      |2013     |\n",
      "|12 Years a Slave                 |2013     |\n",
      "|Killing Them Softly              |2012     |\n",
      "|The Tree of Life                 |2011     |\n",
      "|Moneyball                        |2011     |\n",
      "+---------------------------------+---------+"
     ]
    }
   ],
   "source": [
    "bp = names_principles_titles.select('primaryTitle', 'startYear') \\\n",
    "    .filter((col('primaryName') == 'Brad Pitt') \\\n",
    "            & (col('titleType') == 'movie') \\\n",
    "            & (col('startYear') > 2010) \\\n",
    "            & (col('category')=='actor'))\n",
    "\n",
    "bp.sort(col('startYear').desc()).show(truncate=False)"
   ]
  },
  {
   "cell_type": "markdown",
   "id": "084db6f3",
   "metadata": {},
   "source": [
    "## 3) How many movies has Zendaya acted in each year?"
   ]
  },
  {
   "cell_type": "code",
   "execution_count": 32,
   "id": "0f7d1874",
   "metadata": {
    "execution": {
     "iopub.execute_input": "2023-12-13T00:42:52.842545Z",
     "iopub.status.busy": "2023-12-13T00:42:52.842216Z",
     "iopub.status.idle": "2023-12-13T00:43:42.264642Z",
     "shell.execute_reply": "2023-12-13T00:43:42.263813Z",
     "shell.execute_reply.started": "2023-12-13T00:42:52.842506Z"
    }
   },
   "outputs": [
    {
     "data": {
      "application/vnd.jupyter.widget-view+json": {
       "model_id": "e291d426a5ba4fcaa46fd8d01bfbde8c",
       "version_major": 2,
       "version_minor": 0
      },
      "text/plain": [
       "VBox()"
      ]
     },
     "metadata": {},
     "output_type": "display_data"
    },
    {
     "data": {
      "application/vnd.jupyter.widget-view+json": {
       "model_id": "",
       "version_major": 2,
       "version_minor": 0
      },
      "text/plain": [
       "FloatProgress(value=0.0, bar_style='info', description='Progress:', layout=Layout(height='25px', width='50%'),…"
      ]
     },
     "metadata": {},
     "output_type": "display_data"
    },
    {
     "name": "stdout",
     "output_type": "stream",
     "text": [
      "+---------+-----+\n",
      "|startYear|count|\n",
      "+---------+-----+\n",
      "|2020     |1    |\n",
      "|2018     |2    |\n",
      "|2017     |1    |\n",
      "+---------+-----+"
     ]
    }
   ],
   "source": [
    "zd = names_principles_titles.select('startYear') \\\n",
    "    .filter((col('primaryName') == 'Zendaya') & (col('titleType') == 'movie') & (col('startYear') != nll))\n",
    "\n",
    "zd.groupBy('startYear').count().sort(\n",
    "    col('startYear').desc()).show(truncate=False)"
   ]
  },
  {
   "cell_type": "markdown",
   "id": "c7ba3bde",
   "metadata": {},
   "source": [
    "## 4) Which movies, released in 2019, have an average rating exceeding 9.7?"
   ]
  },
  {
   "cell_type": "code",
   "execution_count": 33,
   "id": "294883c2",
   "metadata": {
    "execution": {
     "iopub.execute_input": "2023-12-13T00:43:42.266293Z",
     "iopub.status.busy": "2023-12-13T00:43:42.265939Z",
     "iopub.status.idle": "2023-12-13T00:43:49.544564Z",
     "shell.execute_reply": "2023-12-13T00:43:49.543853Z",
     "shell.execute_reply.started": "2023-12-13T00:43:42.266256Z"
    }
   },
   "outputs": [
    {
     "data": {
      "application/vnd.jupyter.widget-view+json": {
       "model_id": "d97a34c2eb5941d7bd49c0fc623721fa",
       "version_major": 2,
       "version_minor": 0
      },
      "text/plain": [
       "VBox()"
      ]
     },
     "metadata": {},
     "output_type": "display_data"
    },
    {
     "data": {
      "application/vnd.jupyter.widget-view+json": {
       "model_id": "",
       "version_major": 2,
       "version_minor": 0
      },
      "text/plain": [
       "FloatProgress(value=0.0, bar_style='info', description='Progress:', layout=Layout(height='25px', width='50%'),…"
      ]
     },
     "metadata": {},
     "output_type": "display_data"
    },
    {
     "name": "stdout",
     "output_type": "stream",
     "text": [
      "+-------------------------------------------------+-------------+\n",
      "|primaryTitle                                     |averageRating|\n",
      "+-------------------------------------------------+-------------+\n",
      "|Bu Can Var Oldugu Sürece                         |10.0         |\n",
      "|L'Enfant Terrible                                |10.0         |\n",
      "|A Grunt's Life                                   |10.0         |\n",
      "|Kirket                                           |10.0         |\n",
      "|Our Scripted Life                                |10.0         |\n",
      "|The Twilight Zone: A 60th Anniversary Celebration|10.0         |\n",
      "|The Butcher Baronet                              |10.0         |\n",
      "|A Medicine for the Mind                          |10.0         |\n",
      "|Love in Kilnerry                                 |10.0         |\n",
      "|Superhombre                                      |9.9          |\n",
      "|Puritan: All of Life to The Glory of God         |9.9          |\n",
      "|The Cardinal                                     |9.9          |\n",
      "|Square One                                       |9.8          |\n",
      "|Kamen Rider Zi-O: Over Quartzer                  |9.8          |\n",
      "|Time and motion                                  |9.8          |\n",
      "|We Shall Not Die Now                             |9.8          |\n",
      "|From Shock to Awe                                |9.8          |\n",
      "|Randhawa                                         |9.8          |\n",
      "|Gini Helida Kathe                                |9.8          |\n",
      "+-------------------------------------------------+-------------+"
     ]
    }
   ],
   "source": [
    "ratings_titles = titles.join(ratings, 'tconst')\n",
    "ratings_titles = ratings_titles.withColumn(\n",
    "    'averageRating', ratings_titles.averageRating.cast(FloatType()))\n",
    "\n",
    "ratings_titles.select('primaryTitle', 'averageRating') \\\n",
    "    .filter((col('startYear')==2019) & (col('averageRating')>9.7) & (col('titleType')=='movie')) \\\n",
    "    .sort(col('averageRating').desc())\\\n",
    "    .show(truncate=False)"
   ]
  },
  {
   "cell_type": "markdown",
   "id": "a884583a-e943-48c3-afdc-54ff6f51ff97",
   "metadata": {},
   "source": [
    "## 5) Among the titles in which Clint Eastwood and Harrison Ford have acted, who has the higher average rating?\n",
    "\n",
    "First, calculate the average rating of each actor and then show the actor with higher average rating."
   ]
  },
  {
   "cell_type": "code",
   "execution_count": 34,
   "id": "df2500aa-0304-4170-9ae2-c15d28473c1b",
   "metadata": {
    "execution": {
     "iopub.execute_input": "2023-12-13T00:43:49.545788Z",
     "iopub.status.busy": "2023-12-13T00:43:49.545541Z",
     "iopub.status.idle": "2023-12-13T00:45:25.530650Z",
     "shell.execute_reply": "2023-12-13T00:45:25.529849Z",
     "shell.execute_reply.started": "2023-12-13T00:43:49.545760Z"
    },
    "tags": []
   },
   "outputs": [
    {
     "data": {
      "application/vnd.jupyter.widget-view+json": {
       "model_id": "2bae63d173774049ad7d65f961301c5b",
       "version_major": 2,
       "version_minor": 0
      },
      "text/plain": [
       "VBox()"
      ]
     },
     "metadata": {},
     "output_type": "display_data"
    },
    {
     "data": {
      "application/vnd.jupyter.widget-view+json": {
       "model_id": "",
       "version_major": 2,
       "version_minor": 0
      },
      "text/plain": [
       "FloatProgress(value=0.0, bar_style='info', description='Progress:', layout=Layout(height='25px', width='50%'),…"
      ]
     },
     "metadata": {},
     "output_type": "display_data"
    },
    {
     "name": "stdout",
     "output_type": "stream",
     "text": [
      "The average rating of Harrison Ford is 6.75\n",
      "The average rating of Clint Eastwood is 7.71\n",
      "Clint Eastwood has a higher average rating"
     ]
    }
   ],
   "source": [
    "ratings_titles_principles = ratings_titles.join(principles, 'tconst')\n",
    "all_df = ratings_titles_principles.join(name, 'nconst')\n",
    "\n",
    "#Create a dataframe for titles Clint Eastwood acted in and aggregate along averageRating\n",
    "ce = all_df.select('primaryName', 'averageRating', 'category') \\\n",
    "    .filter((col('primaryName')=='Clint Eastwood') & (col('category')=='actor')) \\\n",
    "    .groupBy('primaryName').agg(avg('averageRating'))\n",
    "\n",
    "#Create a dataframe for titles Harrison Ford acted in and aggregate along averageRating\n",
    "hf = all_df.select('primaryName', 'averageRating', 'category') \\\n",
    "    .filter((col('primaryName')=='Harrison Ford') & (col('category')=='actor')) \\\n",
    "    .groupBy('primaryName').agg(avg('averageRating'))\n",
    "\n",
    "#Collect the average ratings for both actors\n",
    "ce_rating = ce.collect()[0][1]\n",
    "hf_rating = hf.collect()[0][1]\n",
    "\n",
    "#Print the results\n",
    "print(f'The average rating of Harrison Ford is {hf_rating:.2f}')\n",
    "print(f'The average rating of Clint Eastwood is {ce_rating:.2f}')\n",
    "\n",
    "if ce_rating > hf_rating:\n",
    "    print('Clint Eastwood has a higher average rating')\n",
    "else:\n",
    "    print('Harrison Ford has a higher average rating')"
   ]
  },
  {
   "cell_type": "markdown",
   "id": "c3fd460a-40ed-459c-b277-26f0e6800bc7",
   "metadata": {},
   "source": [
    "## 6) What is the movie(s) with the highest average rating among those in which Chris Evans has acted?\n",
    "\n",
    "Write your code in a way that it finds and displays all movies with the highest rating, even if there's more than one. "
   ]
  },
  {
   "cell_type": "code",
   "execution_count": 35,
   "id": "5202e408-58aa-45d9-88ac-4cca6d7a9d81",
   "metadata": {
    "execution": {
     "iopub.execute_input": "2023-12-13T00:45:25.531885Z",
     "iopub.status.busy": "2023-12-13T00:45:25.531652Z",
     "iopub.status.idle": "2023-12-13T00:46:12.967137Z",
     "shell.execute_reply": "2023-12-13T00:46:12.966069Z",
     "shell.execute_reply.started": "2023-12-13T00:45:25.531862Z"
    },
    "tags": []
   },
   "outputs": [
    {
     "data": {
      "application/vnd.jupyter.widget-view+json": {
       "model_id": "bd636fbbe40e49db8dfd8851502d73a7",
       "version_major": 2,
       "version_minor": 0
      },
      "text/plain": [
       "VBox()"
      ]
     },
     "metadata": {},
     "output_type": "display_data"
    },
    {
     "data": {
      "application/vnd.jupyter.widget-view+json": {
       "model_id": "",
       "version_major": 2,
       "version_minor": 0
      },
      "text/plain": [
       "FloatProgress(value=0.0, bar_style='info', description='Progress:', layout=Layout(height='25px', width='50%'),…"
      ]
     },
     "metadata": {},
     "output_type": "display_data"
    },
    {
     "name": "stdout",
     "output_type": "stream",
     "text": [
      "+----------------------+-------------+\n",
      "|primaryTitle          |averageRating|\n",
      "+----------------------+-------------+\n",
      "|Avengers: Infinity War|8.5          |\n",
      "|Avengers: Endgame     |8.5          |\n",
      "+----------------------+-------------+\n",
      "only showing top 2 rows"
     ]
    }
   ],
   "source": [
    "chris_evans = all_df.select('primaryTitle', 'averageRating') \\\n",
    "    .filter((col('primaryName')=='Chris Evans') & (col('category')=='actor') & (col('titleType')=='movie'))\n",
    "\n",
    "chris_evans.sort(col('averageRating').desc()).show(2, truncate=False)"
   ]
  },
  {
   "cell_type": "markdown",
   "id": "c7086f55-9fa0-40ae-8116-e14ea042d402",
   "metadata": {},
   "source": [
    "## 7) What is the percentage of adult titles in which actors and actresses have acted?"
   ]
  },
  {
   "cell_type": "code",
   "execution_count": 36,
   "id": "d4f96666-b6e2-473d-a566-be5001d7031a",
   "metadata": {
    "execution": {
     "iopub.execute_input": "2023-12-13T00:46:12.968762Z",
     "iopub.status.busy": "2023-12-13T00:46:12.968506Z",
     "iopub.status.idle": "2023-12-13T00:49:23.109316Z",
     "shell.execute_reply": "2023-12-13T00:49:23.107949Z",
     "shell.execute_reply.started": "2023-12-13T00:46:12.968737Z"
    },
    "tags": []
   },
   "outputs": [
    {
     "data": {
      "application/vnd.jupyter.widget-view+json": {
       "model_id": "a9414c2be5e94632a33cce4795a36def",
       "version_major": 2,
       "version_minor": 0
      },
      "text/plain": [
       "VBox()"
      ]
     },
     "metadata": {},
     "output_type": "display_data"
    },
    {
     "data": {
      "application/vnd.jupyter.widget-view+json": {
       "model_id": "",
       "version_major": 2,
       "version_minor": 0
      },
      "text/plain": [
       "FloatProgress(value=0.0, bar_style='info', description='Progress:', layout=Layout(height='25px', width='50%'),…"
      ]
     },
     "metadata": {},
     "output_type": "display_data"
    },
    {
     "name": "stdout",
     "output_type": "stream",
     "text": [
      "The percentage of adult titles actors have acted is: 2.14%\n",
      "The percentage of adult titles actresses have acted is: 5.33%"
     ]
    }
   ],
   "source": [
    "#Subset of actors and actresses\n",
    "actors = all_df.filter(col('category') == 'actor')\n",
    "actresses = all_df.filter(col('category') == 'actress')\n",
    "\n",
    "#Count total actors and actresses\n",
    "count_actors = actors.count()\n",
    "count_actresses = actresses.count()\n",
    "\n",
    "#Count adult actors and actresses\n",
    "adult_actors = actors.filter(col('isAdult') == 1)\n",
    "adult_actresses = actresses.filter(col('isAdult') == 1)\n",
    "\n",
    "#Calcuate the percentages\n",
    "percent_adult_actors = (adult_actors.count() / count_actors) * 100\n",
    "percent_adult_actresses = (adult_actresses.count() / count_actresses) * 100\n",
    "\n",
    "#Print results\n",
    "print(f'The percentage of adult titles actors have acted is: {percent_adult_actors:.2f}%')\n",
    "print(f'The percentage of adult titles actresses have acted is: {percent_adult_actresses:.2f}%')"
   ]
  },
  {
   "cell_type": "markdown",
   "id": "08ea8545-0511-472e-b225-c3af64237cd5",
   "metadata": {},
   "source": [
    "## 8) What are the top 10 movie genres with the shortest average runtime?\n",
    "\n",
    "You do not need to join tables in this question."
   ]
  },
  {
   "cell_type": "code",
   "execution_count": 37,
   "id": "067686da-7232-426a-a922-6ca7bca99ab1",
   "metadata": {
    "execution": {
     "iopub.execute_input": "2023-12-13T00:49:23.110596Z",
     "iopub.status.busy": "2023-12-13T00:49:23.110338Z",
     "iopub.status.idle": "2023-12-13T00:49:30.398303Z",
     "shell.execute_reply": "2023-12-13T00:49:30.397260Z",
     "shell.execute_reply.started": "2023-12-13T00:49:23.110573Z"
    },
    "tags": []
   },
   "outputs": [
    {
     "data": {
      "application/vnd.jupyter.widget-view+json": {
       "model_id": "7fb1d33865d64d64aee14f40c2887bb0",
       "version_major": 2,
       "version_minor": 0
      },
      "text/plain": [
       "VBox()"
      ]
     },
     "metadata": {},
     "output_type": "display_data"
    },
    {
     "data": {
      "application/vnd.jupyter.widget-view+json": {
       "model_id": "",
       "version_major": 2,
       "version_minor": 0
      },
      "text/plain": [
       "FloatProgress(value=0.0, bar_style='info', description='Progress:', layout=Layout(height='25px', width='50%'),…"
      ]
     },
     "metadata": {},
     "output_type": "display_data"
    },
    {
     "name": "stdout",
     "output_type": "stream",
     "text": [
      "+-----------+-------------------+\n",
      "|genre      |avg(runtimeMinutes)|\n",
      "+-----------+-------------------+\n",
      "|Short      |18.666666666666668 |\n",
      "|News       |66.84965437788019  |\n",
      "|Documentary|72.67815675360818  |\n",
      "|Reality-TV |76.28              |\n",
      "|Adult      |77.181711376542    |\n",
      "|Western    |79.35924285138945  |\n",
      "|Talk-Show  |79.43333333333334  |\n",
      "|Animation  |80.74658828469452  |\n",
      "|Biography  |81.05191321499014  |\n",
      "|Film-Noir  |83.75703324808184  |\n",
      "+-----------+-------------------+\n",
      "only showing top 10 rows"
     ]
    }
   ],
   "source": [
    "genre_split = titles.withColumn('genre', explode(split(\n",
    "    'genres', \",\"))).filter(col('genre') != nll)\n",
    "genre_split = genre_split.withColumn(\n",
    "    'runtimeMinutes', genre_split.runtimeMinutes.cast(FloatType()))\n",
    "\n",
    "genre_split.filter(col('titleType')=='movie') \\\n",
    "    .groupBy('genre').agg(avg('runtimeMinutes')) \\\n",
    "    .sort(col('avg(runtimeMinutes)').asc()) \\\n",
    "    .show(10, truncate=False)"
   ]
  },
  {
   "cell_type": "markdown",
   "id": "867fc752-8ad8-41dd-a21d-bbae10f7295b",
   "metadata": {},
   "source": [
    "## 9) What are the most common character names for actors and actresses in Romance movies?"
   ]
  },
  {
   "cell_type": "code",
   "execution_count": 38,
   "id": "c757d669-506b-413e-94e0-ee8908fe4327",
   "metadata": {
    "execution": {
     "iopub.execute_input": "2023-12-13T00:49:30.399924Z",
     "iopub.status.busy": "2023-12-13T00:49:30.399592Z",
     "iopub.status.idle": "2023-12-13T00:50:19.823917Z",
     "shell.execute_reply": "2023-12-13T00:50:19.822986Z",
     "shell.execute_reply.started": "2023-12-13T00:49:30.399890Z"
    },
    "tags": []
   },
   "outputs": [
    {
     "data": {
      "application/vnd.jupyter.widget-view+json": {
       "model_id": "9a7b8bf5865a4df898ac5567c0e68c42",
       "version_major": 2,
       "version_minor": 0
      },
      "text/plain": [
       "VBox()"
      ]
     },
     "metadata": {},
     "output_type": "display_data"
    },
    {
     "data": {
      "application/vnd.jupyter.widget-view+json": {
       "model_id": "",
       "version_major": 2,
       "version_minor": 0
      },
      "text/plain": [
       "FloatProgress(value=0.0, bar_style='info', description='Progress:', layout=Layout(height='25px', width='50%'),…"
      ]
     },
     "metadata": {},
     "output_type": "display_data"
    },
    {
     "name": "stdout",
     "output_type": "stream",
     "text": [
      "+--------+-----+----------+\n",
      "|category|count|characters|\n",
      "+--------+-----+----------+\n",
      "|actress |228  |[\"Anna\"]  |\n",
      "|actor   |182  |[\"David\"] |\n",
      "+--------+-----+----------+\n",
      "only showing top 2 rows"
     ]
    }
   ],
   "source": [
    "genre_principles = genre_split.join(principles, 'tconst')\n",
    "genre_principles_names = genre_principles.join(name, 'nconst')\n",
    "\n",
    "rom_movies = genre_principles_names.filter((col('genre') == 'Romance') \\\n",
    "                                           & (col('titleType') == 'movie') \\\n",
    "                                           & ((col('category') == 'actor') | (col('category') == 'actress')) \\\n",
    "                                           & (col('characters') != nll))\n",
    "\n",
    "max_rom_movies = rom_movies.select('category','characters') \\\n",
    "    .groupBy('category','characters') \\\n",
    "    .count().sort(col('count').desc())\n",
    "\n",
    "max_rom_movies.select('category', 'count', 'characters').show(2, truncate=False)"
   ]
  }
 ],
 "metadata": {
  "kernelspec": {
   "display_name": "PySpark",
   "language": "python",
   "name": "pysparkkernel"
  },
  "language_info": {
   "codemirror_mode": {
    "name": "python",
    "version": 3
   },
   "file_extension": ".py",
   "mimetype": "text/x-python",
   "name": "pyspark",
   "pygments_lexer": "python3"
  }
 },
 "nbformat": 4,
 "nbformat_minor": 5
}
